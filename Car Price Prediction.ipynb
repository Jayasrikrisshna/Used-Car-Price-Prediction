{
 "cells": [
  {
   "cell_type": "markdown",
   "id": "f393dffa",
   "metadata": {},
   "source": [
    "## Car Price Prediction\n",
    "\n",
    "### Problem Statement\n",
    "\n",
    "With the covid 19 impact in the market, we have seen lot of changes in the car market. Now some cars are in demand hence making them costly and some are not in demand hence cheaper. One of our clients works with small traders, who sell used cars. With the change in market due to covid 19 impact, our client is facing problems with their previous car price valuation machine learning models. So, they are looking for new machine learning models from new data. We have to make car price valuation model. This project contains two phase-\n",
    "\n",
    "1. Data Collection Phase\n",
    "I have done web scraping to collect the data of used cars from the well known website www.cardekho.com and fetched data for different locations. As per the requirement of our client we need to build the model to predict the prices of these used cars.\n",
    "\n",
    "2. Model Building Phase\n",
    "After collecting the data, I need to build a machine learning model. Before model building we need to do all data pre-processing steps. The complete life cycle of data science that I have used in this project are as follows:\n",
    "\n",
    "Data Cleaning\n",
    "\n",
    "Exploratory Data Analysis\n",
    "\n",
    "Data Pre-processing\n",
    "\n",
    "Model Building\n",
    "\n",
    "Model Evaluation\n",
    "\n",
    "Selecting the best model\n"
   ]
  },
  {
   "cell_type": "code",
   "execution_count": 1,
   "id": "d4dc7ba2",
   "metadata": {},
   "outputs": [],
   "source": [
    "# Importing Necessary Libraries\n",
    "import pandas as pd\n",
    "import numpy as np \n",
    "import seaborn as sns\n",
    "import matplotlib.pyplot as plt\n",
    "import warnings\n",
    "warnings.filterwarnings('ignore')"
   ]
  },
  {
   "cell_type": "code",
   "execution_count": 2,
   "id": "181474ce",
   "metadata": {},
   "outputs": [
    {
     "data": {
      "text/html": [
       "<div>\n",
       "<style scoped>\n",
       "    .dataframe tbody tr th:only-of-type {\n",
       "        vertical-align: middle;\n",
       "    }\n",
       "\n",
       "    .dataframe tbody tr th {\n",
       "        vertical-align: top;\n",
       "    }\n",
       "\n",
       "    .dataframe thead th {\n",
       "        text-align: right;\n",
       "    }\n",
       "</style>\n",
       "<table border=\"1\" class=\"dataframe\">\n",
       "  <thead>\n",
       "    <tr style=\"text-align: right;\">\n",
       "      <th></th>\n",
       "      <th>Car_Name</th>\n",
       "      <th>Fuel_type</th>\n",
       "      <th>Running_in_kms</th>\n",
       "      <th>Endine_disp</th>\n",
       "      <th>Gear_transmission</th>\n",
       "      <th>Milage_in_km/ltr</th>\n",
       "      <th>Seating_cap</th>\n",
       "      <th>color</th>\n",
       "      <th>Max_power</th>\n",
       "      <th>front_brake_type</th>\n",
       "      <th>rear_brake_type</th>\n",
       "      <th>cargo_volume</th>\n",
       "      <th>height</th>\n",
       "      <th>width</th>\n",
       "      <th>length</th>\n",
       "      <th>Weight</th>\n",
       "      <th>Insp_score</th>\n",
       "      <th>top_speed</th>\n",
       "      <th>City_url</th>\n",
       "      <th>Car_price</th>\n",
       "    </tr>\n",
       "  </thead>\n",
       "  <tbody>\n",
       "    <tr>\n",
       "      <th>0</th>\n",
       "      <td>2017 Volkswagen Vento</td>\n",
       "      <td>Petrol</td>\n",
       "      <td>43,688 kms</td>\n",
       "      <td>1197</td>\n",
       "      <td>Automatic</td>\n",
       "      <td>18.19 kmpl</td>\n",
       "      <td>5</td>\n",
       "      <td>Titanium Beige</td>\n",
       "      <td>103.2</td>\n",
       "      <td>Ventilated Disc</td>\n",
       "      <td>Drum</td>\n",
       "      <td>494</td>\n",
       "      <td>1467</td>\n",
       "      <td>1699</td>\n",
       "      <td>4390</td>\n",
       "      <td>1720</td>\n",
       "      <td>9</td>\n",
       "      <td>185 Kmph</td>\n",
       "      <td>https://www.cardekho.com/used-cars+in+ahmedabad</td>\n",
       "      <td>7.58 Lakh</td>\n",
       "    </tr>\n",
       "    <tr>\n",
       "      <th>1</th>\n",
       "      <td>2015 Hyundai Verna</td>\n",
       "      <td>Petrol</td>\n",
       "      <td>79,290 kms</td>\n",
       "      <td>1591</td>\n",
       "      <td>Manual</td>\n",
       "      <td>17.01 kmpl</td>\n",
       "      <td>5</td>\n",
       "      <td>Pure white</td>\n",
       "      <td>121.4</td>\n",
       "      <td>Disc</td>\n",
       "      <td>Drum</td>\n",
       "      <td>465-litres</td>\n",
       "      <td>1475</td>\n",
       "      <td>1700</td>\n",
       "      <td>4375</td>\n",
       "      <td>-</td>\n",
       "      <td>9</td>\n",
       "      <td>196 Kmph</td>\n",
       "      <td>https://www.cardekho.com/used-cars+in+ahmedabad</td>\n",
       "      <td>5.88 Lakh</td>\n",
       "    </tr>\n",
       "    <tr>\n",
       "      <th>2</th>\n",
       "      <td>2017 Volkswagen Vento</td>\n",
       "      <td>Petrol</td>\n",
       "      <td>49,612 kms</td>\n",
       "      <td>1197</td>\n",
       "      <td>Automatic</td>\n",
       "      <td>18.19 kmpl</td>\n",
       "      <td>5</td>\n",
       "      <td>Carbon Steel</td>\n",
       "      <td>103.2</td>\n",
       "      <td>Ventilated Disc</td>\n",
       "      <td>Drum</td>\n",
       "      <td>494</td>\n",
       "      <td>1467</td>\n",
       "      <td>1699</td>\n",
       "      <td>4390</td>\n",
       "      <td>1720</td>\n",
       "      <td>9.5</td>\n",
       "      <td>185 Kmph</td>\n",
       "      <td>https://www.cardekho.com/used-cars+in+ahmedabad</td>\n",
       "      <td>7.53 Lakh</td>\n",
       "    </tr>\n",
       "    <tr>\n",
       "      <th>3</th>\n",
       "      <td>2019 Jeep Compass</td>\n",
       "      <td>Petrol</td>\n",
       "      <td>32,294 kms</td>\n",
       "      <td>1368</td>\n",
       "      <td>Automatic</td>\n",
       "      <td>16 kmpl</td>\n",
       "      <td>5</td>\n",
       "      <td>Grey</td>\n",
       "      <td>160.77</td>\n",
       "      <td>Disc</td>\n",
       "      <td>Discs</td>\n",
       "      <td>408-litres</td>\n",
       "      <td>1640</td>\n",
       "      <td>1818</td>\n",
       "      <td>4395</td>\n",
       "      <td>-</td>\n",
       "      <td>9.5</td>\n",
       "      <td>186.69 kmph</td>\n",
       "      <td>https://www.cardekho.com/used-cars+in+ahmedabad</td>\n",
       "      <td>16.78 Lakh</td>\n",
       "    </tr>\n",
       "    <tr>\n",
       "      <th>4</th>\n",
       "      <td>2016 Hyundai Grand i10</td>\n",
       "      <td>Petrol</td>\n",
       "      <td>59,313 kms</td>\n",
       "      <td>1197</td>\n",
       "      <td>Automatic</td>\n",
       "      <td>18.9 kmpl</td>\n",
       "      <td>5</td>\n",
       "      <td>Wine Red</td>\n",
       "      <td>82</td>\n",
       "      <td>Disc</td>\n",
       "      <td>Drum</td>\n",
       "      <td>256-liters</td>\n",
       "      <td>1520</td>\n",
       "      <td>1660</td>\n",
       "      <td>3765</td>\n",
       "      <td>-</td>\n",
       "      <td>9</td>\n",
       "      <td>163 Kmph</td>\n",
       "      <td>https://www.cardekho.com/used-cars+in+ahmedabad</td>\n",
       "      <td>5.63 Lakh</td>\n",
       "    </tr>\n",
       "    <tr>\n",
       "      <th>...</th>\n",
       "      <td>...</td>\n",
       "      <td>...</td>\n",
       "      <td>...</td>\n",
       "      <td>...</td>\n",
       "      <td>...</td>\n",
       "      <td>...</td>\n",
       "      <td>...</td>\n",
       "      <td>...</td>\n",
       "      <td>...</td>\n",
       "      <td>...</td>\n",
       "      <td>...</td>\n",
       "      <td>...</td>\n",
       "      <td>...</td>\n",
       "      <td>...</td>\n",
       "      <td>...</td>\n",
       "      <td>...</td>\n",
       "      <td>...</td>\n",
       "      <td>...</td>\n",
       "      <td>...</td>\n",
       "      <td>...</td>\n",
       "    </tr>\n",
       "    <tr>\n",
       "      <th>5174</th>\n",
       "      <td>2020 BMW X7</td>\n",
       "      <td>Petrol</td>\n",
       "      <td>1,80,000 kms</td>\n",
       "      <td>2998</td>\n",
       "      <td>Automatic</td>\n",
       "      <td>10.54 kmpl</td>\n",
       "      <td>7</td>\n",
       "      <td>Grey</td>\n",
       "      <td>335.25</td>\n",
       "      <td>Disc</td>\n",
       "      <td>Disc</td>\n",
       "      <td>-</td>\n",
       "      <td>1805</td>\n",
       "      <td>2218</td>\n",
       "      <td>5150</td>\n",
       "      <td>-</td>\n",
       "      <td>-</td>\n",
       "      <td>245</td>\n",
       "      <td>https://www.cardekho.com/used-cars+in+lucknow</td>\n",
       "      <td>1.23 Cr</td>\n",
       "    </tr>\n",
       "    <tr>\n",
       "      <th>5175</th>\n",
       "      <td>2021 Jeep Wrangler</td>\n",
       "      <td>Petrol</td>\n",
       "      <td>10,000 kms</td>\n",
       "      <td>1998</td>\n",
       "      <td>Automatic</td>\n",
       "      <td>12.1 kmpl</td>\n",
       "      <td>5</td>\n",
       "      <td>Black</td>\n",
       "      <td>268</td>\n",
       "      <td>Ventilated Disc</td>\n",
       "      <td>Ventilated Disc</td>\n",
       "      <td>-</td>\n",
       "      <td>1838</td>\n",
       "      <td>1894</td>\n",
       "      <td>4882</td>\n",
       "      <td>-</td>\n",
       "      <td>-</td>\n",
       "      <td>-</td>\n",
       "      <td>https://www.cardekho.com/used-cars+in+lucknow</td>\n",
       "      <td>61.95 Lakh</td>\n",
       "    </tr>\n",
       "    <tr>\n",
       "      <th>5176</th>\n",
       "      <td>2017 Hyundai EON</td>\n",
       "      <td>Petrol</td>\n",
       "      <td>85,416 kms</td>\n",
       "      <td>814</td>\n",
       "      <td>Manual</td>\n",
       "      <td>21.1 kmpl</td>\n",
       "      <td>5</td>\n",
       "      <td>Star Dust</td>\n",
       "      <td>55.2</td>\n",
       "      <td>Disc</td>\n",
       "      <td>Drum</td>\n",
       "      <td>215-litres</td>\n",
       "      <td>1500</td>\n",
       "      <td>1550</td>\n",
       "      <td>3495</td>\n",
       "      <td>-</td>\n",
       "      <td>-</td>\n",
       "      <td>135 Kmph</td>\n",
       "      <td>https://www.cardekho.com/used-cars+in+lucknow</td>\n",
       "      <td>2.72 Lakh</td>\n",
       "    </tr>\n",
       "    <tr>\n",
       "      <th>5177</th>\n",
       "      <td>2011 Hyundai i10</td>\n",
       "      <td>Petrol</td>\n",
       "      <td>1,11,408 kms</td>\n",
       "      <td>1086</td>\n",
       "      <td>Manual</td>\n",
       "      <td>19.81 kmpl</td>\n",
       "      <td>5</td>\n",
       "      <td>Grey</td>\n",
       "      <td>68.05</td>\n",
       "      <td>Ventilated Disc</td>\n",
       "      <td>Drum</td>\n",
       "      <td>225-litres</td>\n",
       "      <td>1550</td>\n",
       "      <td>1595</td>\n",
       "      <td>3585</td>\n",
       "      <td>-</td>\n",
       "      <td>-</td>\n",
       "      <td>165 Kmph</td>\n",
       "      <td>https://www.cardekho.com/used-cars+in+lucknow</td>\n",
       "      <td>1.80 Lakh</td>\n",
       "    </tr>\n",
       "    <tr>\n",
       "      <th>5178</th>\n",
       "      <td>2021 Mercedes-Benz AMG C 43</td>\n",
       "      <td>Petrol</td>\n",
       "      <td>1,500 kms</td>\n",
       "      <td>2996</td>\n",
       "      <td>Automatic</td>\n",
       "      <td>-</td>\n",
       "      <td>5</td>\n",
       "      <td>Black</td>\n",
       "      <td>384.87</td>\n",
       "      <td>Ventilated Disc</td>\n",
       "      <td>Ventilated Disc</td>\n",
       "      <td>-</td>\n",
       "      <td>1402</td>\n",
       "      <td>2016</td>\n",
       "      <td>4693</td>\n",
       "      <td>-</td>\n",
       "      <td>-</td>\n",
       "      <td>250km/h</td>\n",
       "      <td>https://www.cardekho.com/used-cars+in+lucknow</td>\n",
       "      <td>79.00 Lakh</td>\n",
       "    </tr>\n",
       "  </tbody>\n",
       "</table>\n",
       "<p>5179 rows × 20 columns</p>\n",
       "</div>"
      ],
      "text/plain": [
       "                         Car_Name Fuel_type Running_in_kms Endine_disp  \\\n",
       "0           2017 Volkswagen Vento    Petrol     43,688 kms       1197    \n",
       "1              2015 Hyundai Verna    Petrol     79,290 kms       1591    \n",
       "2           2017 Volkswagen Vento    Petrol     49,612 kms       1197    \n",
       "3               2019 Jeep Compass    Petrol     32,294 kms       1368    \n",
       "4          2016 Hyundai Grand i10    Petrol     59,313 kms       1197    \n",
       "...                           ...       ...            ...         ...   \n",
       "5174                  2020 BMW X7    Petrol   1,80,000 kms        2998   \n",
       "5175           2021 Jeep Wrangler    Petrol     10,000 kms        1998   \n",
       "5176             2017 Hyundai EON    Petrol     85,416 kms         814   \n",
       "5177             2011 Hyundai i10    Petrol   1,11,408 kms        1086   \n",
       "5178  2021 Mercedes-Benz AMG C 43    Petrol      1,500 kms        2996   \n",
       "\n",
       "     Gear_transmission Milage_in_km/ltr Seating_cap           color Max_power  \\\n",
       "0            Automatic       18.19 kmpl           5  Titanium Beige     103.2   \n",
       "1               Manual       17.01 kmpl           5      Pure white     121.4   \n",
       "2            Automatic       18.19 kmpl           5    Carbon Steel     103.2   \n",
       "3            Automatic          16 kmpl           5            Grey    160.77   \n",
       "4            Automatic        18.9 kmpl           5        Wine Red        82   \n",
       "...                ...              ...         ...             ...       ...   \n",
       "5174         Automatic       10.54 kmpl           7            Grey    335.25   \n",
       "5175         Automatic        12.1 kmpl           5           Black       268   \n",
       "5176            Manual        21.1 kmpl           5       Star Dust      55.2   \n",
       "5177            Manual       19.81 kmpl           5            Grey     68.05   \n",
       "5178         Automatic                -           5           Black    384.87   \n",
       "\n",
       "     front_brake_type  rear_brake_type cargo_volume height width length  \\\n",
       "0     Ventilated Disc             Drum          494   1467  1699   4390   \n",
       "1                Disc             Drum   465-litres   1475  1700   4375   \n",
       "2     Ventilated Disc             Drum          494   1467  1699   4390   \n",
       "3                Disc            Discs   408-litres   1640  1818   4395   \n",
       "4                Disc             Drum   256-liters   1520  1660   3765   \n",
       "...               ...              ...          ...    ...   ...    ...   \n",
       "5174             Disc             Disc            -   1805  2218   5150   \n",
       "5175  Ventilated Disc  Ventilated Disc            -   1838  1894   4882   \n",
       "5176             Disc             Drum   215-litres   1500  1550   3495   \n",
       "5177  Ventilated Disc             Drum   225-litres   1550  1595   3585   \n",
       "5178  Ventilated Disc  Ventilated Disc            -   1402  2016   4693   \n",
       "\n",
       "     Weight Insp_score    top_speed  \\\n",
       "0      1720          9     185 Kmph   \n",
       "1         -          9     196 Kmph   \n",
       "2      1720        9.5     185 Kmph   \n",
       "3         -        9.5  186.69 kmph   \n",
       "4         -          9     163 Kmph   \n",
       "...     ...        ...          ...   \n",
       "5174      -          -          245   \n",
       "5175      -          -            -   \n",
       "5176      -          -     135 Kmph   \n",
       "5177      -          -     165 Kmph   \n",
       "5178      -          -      250km/h   \n",
       "\n",
       "                                             City_url   Car_price  \n",
       "0     https://www.cardekho.com/used-cars+in+ahmedabad   7.58 Lakh  \n",
       "1     https://www.cardekho.com/used-cars+in+ahmedabad   5.88 Lakh  \n",
       "2     https://www.cardekho.com/used-cars+in+ahmedabad   7.53 Lakh  \n",
       "3     https://www.cardekho.com/used-cars+in+ahmedabad  16.78 Lakh  \n",
       "4     https://www.cardekho.com/used-cars+in+ahmedabad   5.63 Lakh  \n",
       "...                                               ...         ...  \n",
       "5174    https://www.cardekho.com/used-cars+in+lucknow     1.23 Cr  \n",
       "5175    https://www.cardekho.com/used-cars+in+lucknow  61.95 Lakh  \n",
       "5176    https://www.cardekho.com/used-cars+in+lucknow   2.72 Lakh  \n",
       "5177    https://www.cardekho.com/used-cars+in+lucknow   1.80 Lakh  \n",
       "5178    https://www.cardekho.com/used-cars+in+lucknow  79.00 Lakh  \n",
       "\n",
       "[5179 rows x 20 columns]"
      ]
     },
     "execution_count": 2,
     "metadata": {},
     "output_type": "execute_result"
    }
   ],
   "source": [
    "# Dataset\n",
    "df = pd.read_excel(\"Used_cars_data.xlsx\",index_col=0)\n",
    "df"
   ]
  },
  {
   "cell_type": "markdown",
   "id": "274d76f7",
   "metadata": {},
   "source": [
    "There are 5179 rows and 20 columns in the dataframe. The dataset contains both numerical and categorical data. There are both dependent and independent variables present in the dataframe. We have our target variable \"Price\" which stores the price of the used cars and it is continuous in nature which makes this to be a \"Regression Problem\"."
   ]
  },
  {
   "cell_type": "markdown",
   "id": "a82fdbba",
   "metadata": {},
   "source": [
    "### Preprocessing and Exploratory Data Analysis (EDA)"
   ]
  },
  {
   "cell_type": "code",
   "execution_count": 3,
   "id": "c2888492",
   "metadata": {},
   "outputs": [
    {
     "data": {
      "text/plain": [
       "(5179, 20)"
      ]
     },
     "execution_count": 3,
     "metadata": {},
     "output_type": "execute_result"
    }
   ],
   "source": [
    "# Checking shape of my dataset\n",
    "df.shape"
   ]
  },
  {
   "cell_type": "code",
   "execution_count": 4,
   "id": "fb644daa",
   "metadata": {},
   "outputs": [
    {
     "data": {
      "text/plain": [
       "Index(['Car_Name', 'Fuel_type', 'Running_in_kms', 'Endine_disp',\n",
       "       'Gear_transmission', 'Milage_in_km/ltr', 'Seating_cap', 'color',\n",
       "       'Max_power', 'front_brake_type', 'rear_brake_type', 'cargo_volume',\n",
       "       'height', 'width', 'length', 'Weight', 'Insp_score', 'top_speed',\n",
       "       'City_url', 'Car_price'],\n",
       "      dtype='object')"
      ]
     },
     "execution_count": 4,
     "metadata": {},
     "output_type": "execute_result"
    }
   ],
   "source": [
    "# Checking all column names of dataset\n",
    "df.columns"
   ]
  },
  {
   "cell_type": "code",
   "execution_count": 5,
   "id": "9e5b66e5",
   "metadata": {},
   "outputs": [
    {
     "data": {
      "text/plain": [
       "Car_Name             object\n",
       "Fuel_type            object\n",
       "Running_in_kms       object\n",
       "Endine_disp          object\n",
       "Gear_transmission    object\n",
       "Milage_in_km/ltr     object\n",
       "Seating_cap          object\n",
       "color                object\n",
       "Max_power            object\n",
       "front_brake_type     object\n",
       "rear_brake_type      object\n",
       "cargo_volume         object\n",
       "height               object\n",
       "width                object\n",
       "length               object\n",
       "Weight               object\n",
       "Insp_score           object\n",
       "top_speed            object\n",
       "City_url             object\n",
       "Car_price            object\n",
       "dtype: object"
      ]
     },
     "execution_count": 5,
     "metadata": {},
     "output_type": "execute_result"
    }
   ],
   "source": [
    "# Checking the data types of all columns in dataset\n",
    "df.dtypes"
   ]
  },
  {
   "cell_type": "code",
   "execution_count": 6,
   "id": "5b0e67e5",
   "metadata": {},
   "outputs": [
    {
     "data": {
      "text/plain": [
       "0        7.58 Lakh\n",
       "1        5.88 Lakh\n",
       "2        7.53 Lakh\n",
       "3       16.78 Lakh\n",
       "4        5.63 Lakh\n",
       "           ...    \n",
       "5174       1.23 Cr\n",
       "5175    61.95 Lakh\n",
       "5176     2.72 Lakh\n",
       "5177     1.80 Lakh\n",
       "5178    79.00 Lakh\n",
       "Name: Car_price, Length: 5179, dtype: object"
      ]
     },
     "execution_count": 6,
     "metadata": {},
     "output_type": "execute_result"
    }
   ],
   "source": [
    "df['Car_price']"
   ]
  },
  {
   "cell_type": "code",
   "execution_count": 7,
   "id": "09b4ab65",
   "metadata": {},
   "outputs": [
    {
     "name": "stdout",
     "output_type": "stream",
     "text": [
      "<class 'pandas.core.frame.DataFrame'>\n",
      "Int64Index: 5179 entries, 0 to 5178\n",
      "Data columns (total 20 columns):\n",
      " #   Column             Non-Null Count  Dtype \n",
      "---  ------             --------------  ----- \n",
      " 0   Car_Name           5179 non-null   object\n",
      " 1   Fuel_type          5179 non-null   object\n",
      " 2   Running_in_kms     5179 non-null   object\n",
      " 3   Endine_disp        5179 non-null   object\n",
      " 4   Gear_transmission  5179 non-null   object\n",
      " 5   Milage_in_km/ltr   5179 non-null   object\n",
      " 6   Seating_cap        5178 non-null   object\n",
      " 7   color              5179 non-null   object\n",
      " 8   Max_power          5179 non-null   object\n",
      " 9   front_brake_type   5178 non-null   object\n",
      " 10  rear_brake_type    5178 non-null   object\n",
      " 11  cargo_volume       5178 non-null   object\n",
      " 12  height             5178 non-null   object\n",
      " 13  width              5178 non-null   object\n",
      " 14  length             5178 non-null   object\n",
      " 15  Weight             5179 non-null   object\n",
      " 16  Insp_score         5179 non-null   object\n",
      " 17  top_speed          5142 non-null   object\n",
      " 18  City_url           5179 non-null   object\n",
      " 19  Car_price          5179 non-null   object\n",
      "dtypes: object(20)\n",
      "memory usage: 849.7+ KB\n"
     ]
    }
   ],
   "source": [
    "df.info()"
   ]
  },
  {
   "cell_type": "markdown",
   "id": "422b7126",
   "metadata": {},
   "source": [
    "All the columns are of object data type, but we can see some columns which need to be converted into integer data type."
   ]
  },
  {
   "cell_type": "code",
   "execution_count": 8,
   "id": "1ab03612",
   "metadata": {},
   "outputs": [
    {
     "name": "stdout",
     "output_type": "stream",
     "text": [
      "2017 Hyundai Grand i10         48\n",
      "2017 Maruti Baleno             47\n",
      "2017 Hyundai Creta             46\n",
      "2016 Hyundai Creta             44\n",
      "2018 Hyundai Creta             43\n",
      "                               ..\n",
      "2000 Hyundai Santro             1\n",
      "2010 Audi Q7                    1\n",
      "2016 Isuzu D-Max                1\n",
      "2007 Maruti Omni                1\n",
      "2021 Mercedes-Benz AMG C 43     1\n",
      "Name: Car_Name, Length: 1180, dtype: int64\n",
      "-------------------------------------------------\n",
      "Petrol      3240\n",
      "Diesel      1786\n",
      "CNG          137\n",
      "Electric      14\n",
      "LPG            2\n",
      "Name: Fuel_type, dtype: int64\n",
      "-------------------------------------------------\n",
      "80,000 kms      66\n",
      "60,000 kms      64\n",
      "70,000 kms      59\n",
      "40,000 kms      57\n",
      "50,000 kms      52\n",
      "                ..\n",
      "6,975 kms        1\n",
      "38,135 kms       1\n",
      "28,642 kms       1\n",
      "38,718 kms       1\n",
      "1,11,408 kms     1\n",
      "Name: Running_in_kms, Length: 2476, dtype: int64\n",
      "-------------------------------------------------\n",
      "1197     763\n",
      "1497     331\n",
      "998      328\n",
      "1199     208\n",
      "1591     197\n",
      "        ... \n",
      "5204       1\n",
      "2487       1\n",
      "3604       1\n",
      "6592       1\n",
      "2996       1\n",
      "Name: Endine_disp, Length: 162, dtype: int64\n",
      "-------------------------------------------------\n",
      "Manual       3213\n",
      "Automatic    1966\n",
      "Name: Gear_transmission, dtype: int64\n",
      "-------------------------------------------------\n",
      "-             183\n",
      "18.9 kmpl     167\n",
      "18.6 kmpl     163\n",
      "17 kmpl       138\n",
      "18 kmpl       103\n",
      "             ... \n",
      "11.62 kmpl      1\n",
      "18.51 kmpl      1\n",
      "20.86 kmpl      1\n",
      "10.9 kmpl       1\n",
      "19.49 kmpl      1\n",
      "Name: Milage_in_km/ltr, Length: 452, dtype: int64\n",
      "-------------------------------------------------\n",
      "5     4200\n",
      "7      536\n",
      "5      147\n",
      "4       86\n",
      "8       67\n",
      "-       66\n",
      "6       51\n",
      "7       10\n",
      "2        7\n",
      "9        4\n",
      "10       3\n",
      "6        1\n",
      "Name: Seating_cap, dtype: int64\n",
      "-------------------------------------------------\n",
      "White                   1487\n",
      "Silver                   682\n",
      "Grey                     561\n",
      "Red                      471\n",
      "Blue                     431\n",
      "                        ... \n",
      "Icy Blue                   1\n",
      "GOLD                       1\n",
      "SKY BLUE                   1\n",
      "Brave khaki                1\n",
      "PLATINUM WHITE PEARL       1\n",
      "Name: color, Length: 200, dtype: int64\n",
      "-------------------------------------------------\n",
      "121.3     187\n",
      "81.80     145\n",
      "117.3     138\n",
      "88.7      123\n",
      "81.86     113\n",
      "         ... \n",
      "59.17       1\n",
      "335.25      1\n",
      "237.36      1\n",
      "38Ps        1\n",
      "384.87      1\n",
      "Name: Max_power, Length: 474, dtype: int64\n",
      "-------------------------------------------------\n",
      "Disc                                          3193\n",
      "Ventilated Disc                               1615\n",
      "-                                              133\n",
      "Ventilated Discs                                44\n",
      "Solid Disc                                      43\n",
      "Disc & Caliper Type                             32\n",
      "Disk                                            23\n",
      "Ventilated discs                                19\n",
      "Ventilated DIsc                                 12\n",
      "Multilateral Disc                               10\n",
      "Drum                                            10\n",
      "Ventillated Disc                                 5\n",
      "Ventilated Disk                                  5\n",
      "Vantilated Disc                                  4\n",
      "Disc, 236 mm                                     4\n",
      "Ventilated disc                                  3\n",
      "Electric Parking Brake                           3\n",
      "Disc,internally ventilated                       3\n",
      "Ventlated Disc                                   3\n",
      "Disc & Drum                                      2\n",
      "disc                                             2\n",
      "Discs                                            2\n",
      "Disc brakes                                      2\n",
      "Single Piston Sliding Caliper, Vented Disc       1\n",
      "Dual Circuit with ABS, ABS with BAS              1\n",
      "8-piston caliper front brakes                    1\n",
      "Booster assisted ventilated disc                 1\n",
      "Vacuum assisted hydraulic dual circuit w         1\n",
      "Ventillated Discs                                1\n",
      "Name: front_brake_type, dtype: int64\n",
      "-------------------------------------------------\n",
      "Drum                                          3547\n",
      "Disc                                           933\n",
      "Ventilated Disc                                172\n",
      "Solid Disc                                     159\n",
      "-                                              133\n",
      "Discs                                           56\n",
      "Disc & Caliper Type                             32\n",
      "Ventilated Discs                                31\n",
      "Leading-Trailing Drum                           26\n",
      "Ventilated discs                                18\n",
      "Leading & Trailing Drum                         15\n",
      "Self-Adjusting Drum                             13\n",
      "Drums                                            6\n",
      "Self Adjusting Drum                              4\n",
      "Drums 180 mm                                     4\n",
      "Ventilated Drum                                  4\n",
      "Self Adjusting Drums                             4\n",
      "Disc & Drum                                      3\n",
      "Electric Parking Brake                           3\n",
      "Ventilated disc                                  3\n",
      "drum                                             2\n",
      "Single Piston Sliding Caliper, Vented Disc       1\n",
      "Ventialte Disc                                   1\n",
      "Self adjusting Drums                             1\n",
      "Self adjusting drums                             1\n",
      "Drum`                                            1\n",
      "Dual Circuit with ABS, ABS with BAS              1\n",
      "Perforated disc brakes                           1\n",
      "Booster assisted drum                            1\n",
      "Drum in Discs                                    1\n",
      "Vacuum assisted hydraulic dual circuit w         1\n",
      "Name: rear_brake_type, dtype: int64\n",
      "-------------------------------------------------\n",
      "-             906\n",
      "510-litres    241\n",
      "400-litres    171\n",
      "339-litres    137\n",
      "295-litres    136\n",
      "             ... \n",
      "550-litres      1\n",
      "300-litre       1\n",
      "548 litres      1\n",
      "430-litre       1\n",
      "535-litres      1\n",
      "Name: cargo_volume, Length: 304, dtype: int64\n",
      "-------------------------------------------------\n",
      "1475      280\n",
      "1505      257\n",
      "1495      223\n",
      "1520      198\n",
      "1510      162\n",
      "         ... \n",
      "1,431       1\n",
      "1548        1\n",
      "1415        1\n",
      "1513        1\n",
      "1402        1\n",
      "Name: height, Length: 315, dtype: int64\n",
      "-------------------------------------------------\n",
      "1695     460\n",
      "1734     186\n",
      "1660     171\n",
      "1780     161\n",
      "1735     151\n",
      "        ... \n",
      "1725       1\n",
      "1780       1\n",
      "1722       1\n",
      "1966       1\n",
      "2016       1\n",
      "Name: width, Length: 286, dtype: int64\n",
      "-------------------------------------------------\n",
      "3995      423\n",
      "4440      281\n",
      "3985      184\n",
      "4270      158\n",
      "-         133\n",
      "         ... \n",
      "5247        1\n",
      "4374        1\n",
      "4,560       1\n",
      "4657        1\n",
      "4693        1\n",
      "Name: length, Length: 388, dtype: int64\n",
      "-------------------------------------------------\n",
      "-        2799\n",
      "1340      170\n",
      "2510      105\n",
      "1350       95\n",
      "1490       71\n",
      "         ... \n",
      "1971        1\n",
      "2530        1\n",
      "1920        1\n",
      "2470        1\n",
      "2435        1\n",
      "Name: Weight, Length: 255, dtype: int64\n",
      "-------------------------------------------------\n",
      "-      4375\n",
      "9       318\n",
      "9.5     191\n",
      "8.5     143\n",
      "8        58\n",
      "7.5      52\n",
      "7        17\n",
      "10       12\n",
      "6         6\n",
      "6.5       5\n",
      "5.5       2\n",
      "Name: Insp_score, dtype: int64\n",
      "-------------------------------------------------\n",
      "-             1900\n",
      "165 Kmph       172\n",
      "170 Kmph       163\n",
      "195 Kmph       145\n",
      "180 Kmph       137\n",
      "              ... \n",
      "162.41kmph       1\n",
      "244 kmph         1\n",
      "243 km/hr        1\n",
      "208km/hr         1\n",
      "250km/h          1\n",
      "Name: top_speed, Length: 259, dtype: int64\n",
      "-------------------------------------------------\n",
      "https://www.cardekho.com/used-cars+in+mumbai       2855\n",
      "https://www.cardekho.com/used-cars+in+bangalore    1686\n",
      "https://www.cardekho.com/used-cars+in+ahmedabad     460\n",
      "https://www.cardekho.com/used-cars+in+pune           40\n",
      "https://www.cardekho.com/used-cars+in+hyderabad      38\n",
      "https://www.cardekho.com/used-cars+in+jaipur         20\n",
      "https://www.cardekho.com/used-cars+in+chennai        20\n",
      "https://www.cardekho.com/used-cars+in+kolkata        20\n",
      "https://www.cardekho.com/used-cars+in+agra           20\n",
      "https://www.cardekho.com/used-cars+in+lucknow        20\n",
      "Name: City_url, dtype: int64\n",
      "-------------------------------------------------\n",
      "5.25 Lakh     58\n",
      "5.75 Lakh     57\n",
      "6.75 Lakh     57\n",
      "4.75 Lakh     55\n",
      "4.25 Lakh     52\n",
      "              ..\n",
      "53999          1\n",
      "7.47 Lakh      1\n",
      "15.30 Lakh     1\n",
      "14.21 Lakh     1\n",
      "2.72 Lakh      1\n",
      "Name: Car_price, Length: 1118, dtype: int64\n",
      "-------------------------------------------------\n"
     ]
    }
   ],
   "source": [
    "# Value counts of each column.\n",
    "for i in df.columns:\n",
    "        print(df[i].value_counts())\n",
    "        print('-------------------------------------------------')"
   ]
  },
  {
   "cell_type": "code",
   "execution_count": 9,
   "id": "075c1da1",
   "metadata": {},
   "outputs": [
    {
     "data": {
      "text/plain": [
       "Car_Name             1180\n",
       "Fuel_type               5\n",
       "Running_in_kms       2476\n",
       "Endine_disp           162\n",
       "Gear_transmission       2\n",
       "Milage_in_km/ltr      452\n",
       "Seating_cap            12\n",
       "color                 200\n",
       "Max_power             474\n",
       "front_brake_type       29\n",
       "rear_brake_type        31\n",
       "cargo_volume          304\n",
       "height                315\n",
       "width                 286\n",
       "length                388\n",
       "Weight                255\n",
       "Insp_score             11\n",
       "top_speed             259\n",
       "City_url               10\n",
       "Car_price            1118\n",
       "dtype: int64"
      ]
     },
     "execution_count": 9,
     "metadata": {},
     "output_type": "execute_result"
    }
   ],
   "source": [
    "# Checking unique values of each column\n",
    "df.nunique()"
   ]
  },
  {
   "cell_type": "markdown",
   "id": "ab8c0246",
   "metadata": {},
   "source": [
    "### Feature Extraction"
   ]
  },
  {
   "cell_type": "code",
   "execution_count": 10,
   "id": "1e48f9df",
   "metadata": {},
   "outputs": [
    {
     "data": {
      "text/html": [
       "<div>\n",
       "<style scoped>\n",
       "    .dataframe tbody tr th:only-of-type {\n",
       "        vertical-align: middle;\n",
       "    }\n",
       "\n",
       "    .dataframe tbody tr th {\n",
       "        vertical-align: top;\n",
       "    }\n",
       "\n",
       "    .dataframe thead th {\n",
       "        text-align: right;\n",
       "    }\n",
       "</style>\n",
       "<table border=\"1\" class=\"dataframe\">\n",
       "  <thead>\n",
       "    <tr style=\"text-align: right;\">\n",
       "      <th></th>\n",
       "      <th>Car_Name</th>\n",
       "      <th>Fuel_type</th>\n",
       "      <th>Running_in_kms</th>\n",
       "      <th>Endine_disp</th>\n",
       "      <th>Gear_transmission</th>\n",
       "      <th>Milage_in_km/ltr</th>\n",
       "      <th>Seating_cap</th>\n",
       "      <th>color</th>\n",
       "      <th>Max_power</th>\n",
       "      <th>front_brake_type</th>\n",
       "      <th>rear_brake_type</th>\n",
       "      <th>cargo_volume</th>\n",
       "      <th>height</th>\n",
       "      <th>width</th>\n",
       "      <th>length</th>\n",
       "      <th>Weight</th>\n",
       "      <th>Insp_score</th>\n",
       "      <th>top_speed</th>\n",
       "      <th>City_url</th>\n",
       "      <th>Car_price</th>\n",
       "    </tr>\n",
       "  </thead>\n",
       "  <tbody>\n",
       "    <tr>\n",
       "      <th>0</th>\n",
       "      <td>2017 Volkswagen Vento</td>\n",
       "      <td>Petrol</td>\n",
       "      <td>43,688 kms</td>\n",
       "      <td>1197</td>\n",
       "      <td>Automatic</td>\n",
       "      <td>18.19 kmpl</td>\n",
       "      <td>5</td>\n",
       "      <td>Titanium Beige</td>\n",
       "      <td>103.2</td>\n",
       "      <td>Ventilated Disc</td>\n",
       "      <td>Drum</td>\n",
       "      <td>494</td>\n",
       "      <td>1467</td>\n",
       "      <td>1699</td>\n",
       "      <td>4390</td>\n",
       "      <td>1720</td>\n",
       "      <td>9</td>\n",
       "      <td>185 Kmph</td>\n",
       "      <td>https://www.cardekho.com/used-cars+in+ahmedabad</td>\n",
       "      <td>7.58</td>\n",
       "    </tr>\n",
       "    <tr>\n",
       "      <th>1</th>\n",
       "      <td>2015 Hyundai Verna</td>\n",
       "      <td>Petrol</td>\n",
       "      <td>79,290 kms</td>\n",
       "      <td>1591</td>\n",
       "      <td>Manual</td>\n",
       "      <td>17.01 kmpl</td>\n",
       "      <td>5</td>\n",
       "      <td>Pure white</td>\n",
       "      <td>121.4</td>\n",
       "      <td>Disc</td>\n",
       "      <td>Drum</td>\n",
       "      <td>465-litres</td>\n",
       "      <td>1475</td>\n",
       "      <td>1700</td>\n",
       "      <td>4375</td>\n",
       "      <td>-</td>\n",
       "      <td>9</td>\n",
       "      <td>196 Kmph</td>\n",
       "      <td>https://www.cardekho.com/used-cars+in+ahmedabad</td>\n",
       "      <td>5.88</td>\n",
       "    </tr>\n",
       "    <tr>\n",
       "      <th>2</th>\n",
       "      <td>2017 Volkswagen Vento</td>\n",
       "      <td>Petrol</td>\n",
       "      <td>49,612 kms</td>\n",
       "      <td>1197</td>\n",
       "      <td>Automatic</td>\n",
       "      <td>18.19 kmpl</td>\n",
       "      <td>5</td>\n",
       "      <td>Carbon Steel</td>\n",
       "      <td>103.2</td>\n",
       "      <td>Ventilated Disc</td>\n",
       "      <td>Drum</td>\n",
       "      <td>494</td>\n",
       "      <td>1467</td>\n",
       "      <td>1699</td>\n",
       "      <td>4390</td>\n",
       "      <td>1720</td>\n",
       "      <td>9.5</td>\n",
       "      <td>185 Kmph</td>\n",
       "      <td>https://www.cardekho.com/used-cars+in+ahmedabad</td>\n",
       "      <td>7.53</td>\n",
       "    </tr>\n",
       "    <tr>\n",
       "      <th>3</th>\n",
       "      <td>2019 Jeep Compass</td>\n",
       "      <td>Petrol</td>\n",
       "      <td>32,294 kms</td>\n",
       "      <td>1368</td>\n",
       "      <td>Automatic</td>\n",
       "      <td>16 kmpl</td>\n",
       "      <td>5</td>\n",
       "      <td>Grey</td>\n",
       "      <td>160.77</td>\n",
       "      <td>Disc</td>\n",
       "      <td>Discs</td>\n",
       "      <td>408-litres</td>\n",
       "      <td>1640</td>\n",
       "      <td>1818</td>\n",
       "      <td>4395</td>\n",
       "      <td>-</td>\n",
       "      <td>9.5</td>\n",
       "      <td>186.69 kmph</td>\n",
       "      <td>https://www.cardekho.com/used-cars+in+ahmedabad</td>\n",
       "      <td>16.78</td>\n",
       "    </tr>\n",
       "    <tr>\n",
       "      <th>4</th>\n",
       "      <td>2016 Hyundai Grand i10</td>\n",
       "      <td>Petrol</td>\n",
       "      <td>59,313 kms</td>\n",
       "      <td>1197</td>\n",
       "      <td>Automatic</td>\n",
       "      <td>18.9 kmpl</td>\n",
       "      <td>5</td>\n",
       "      <td>Wine Red</td>\n",
       "      <td>82</td>\n",
       "      <td>Disc</td>\n",
       "      <td>Drum</td>\n",
       "      <td>256-liters</td>\n",
       "      <td>1520</td>\n",
       "      <td>1660</td>\n",
       "      <td>3765</td>\n",
       "      <td>-</td>\n",
       "      <td>9</td>\n",
       "      <td>163 Kmph</td>\n",
       "      <td>https://www.cardekho.com/used-cars+in+ahmedabad</td>\n",
       "      <td>5.63</td>\n",
       "    </tr>\n",
       "    <tr>\n",
       "      <th>...</th>\n",
       "      <td>...</td>\n",
       "      <td>...</td>\n",
       "      <td>...</td>\n",
       "      <td>...</td>\n",
       "      <td>...</td>\n",
       "      <td>...</td>\n",
       "      <td>...</td>\n",
       "      <td>...</td>\n",
       "      <td>...</td>\n",
       "      <td>...</td>\n",
       "      <td>...</td>\n",
       "      <td>...</td>\n",
       "      <td>...</td>\n",
       "      <td>...</td>\n",
       "      <td>...</td>\n",
       "      <td>...</td>\n",
       "      <td>...</td>\n",
       "      <td>...</td>\n",
       "      <td>...</td>\n",
       "      <td>...</td>\n",
       "    </tr>\n",
       "    <tr>\n",
       "      <th>5174</th>\n",
       "      <td>2020 BMW X7</td>\n",
       "      <td>Petrol</td>\n",
       "      <td>1,80,000 kms</td>\n",
       "      <td>2998</td>\n",
       "      <td>Automatic</td>\n",
       "      <td>10.54 kmpl</td>\n",
       "      <td>7</td>\n",
       "      <td>Grey</td>\n",
       "      <td>335.25</td>\n",
       "      <td>Disc</td>\n",
       "      <td>Disc</td>\n",
       "      <td>-</td>\n",
       "      <td>1805</td>\n",
       "      <td>2218</td>\n",
       "      <td>5150</td>\n",
       "      <td>-</td>\n",
       "      <td>-</td>\n",
       "      <td>245</td>\n",
       "      <td>https://www.cardekho.com/used-cars+in+lucknow</td>\n",
       "      <td>1.23</td>\n",
       "    </tr>\n",
       "    <tr>\n",
       "      <th>5175</th>\n",
       "      <td>2021 Jeep Wrangler</td>\n",
       "      <td>Petrol</td>\n",
       "      <td>10,000 kms</td>\n",
       "      <td>1998</td>\n",
       "      <td>Automatic</td>\n",
       "      <td>12.1 kmpl</td>\n",
       "      <td>5</td>\n",
       "      <td>Black</td>\n",
       "      <td>268</td>\n",
       "      <td>Ventilated Disc</td>\n",
       "      <td>Ventilated Disc</td>\n",
       "      <td>-</td>\n",
       "      <td>1838</td>\n",
       "      <td>1894</td>\n",
       "      <td>4882</td>\n",
       "      <td>-</td>\n",
       "      <td>-</td>\n",
       "      <td>-</td>\n",
       "      <td>https://www.cardekho.com/used-cars+in+lucknow</td>\n",
       "      <td>61.95</td>\n",
       "    </tr>\n",
       "    <tr>\n",
       "      <th>5176</th>\n",
       "      <td>2017 Hyundai EON</td>\n",
       "      <td>Petrol</td>\n",
       "      <td>85,416 kms</td>\n",
       "      <td>814</td>\n",
       "      <td>Manual</td>\n",
       "      <td>21.1 kmpl</td>\n",
       "      <td>5</td>\n",
       "      <td>Star Dust</td>\n",
       "      <td>55.2</td>\n",
       "      <td>Disc</td>\n",
       "      <td>Drum</td>\n",
       "      <td>215-litres</td>\n",
       "      <td>1500</td>\n",
       "      <td>1550</td>\n",
       "      <td>3495</td>\n",
       "      <td>-</td>\n",
       "      <td>-</td>\n",
       "      <td>135 Kmph</td>\n",
       "      <td>https://www.cardekho.com/used-cars+in+lucknow</td>\n",
       "      <td>2.72</td>\n",
       "    </tr>\n",
       "    <tr>\n",
       "      <th>5177</th>\n",
       "      <td>2011 Hyundai i10</td>\n",
       "      <td>Petrol</td>\n",
       "      <td>1,11,408 kms</td>\n",
       "      <td>1086</td>\n",
       "      <td>Manual</td>\n",
       "      <td>19.81 kmpl</td>\n",
       "      <td>5</td>\n",
       "      <td>Grey</td>\n",
       "      <td>68.05</td>\n",
       "      <td>Ventilated Disc</td>\n",
       "      <td>Drum</td>\n",
       "      <td>225-litres</td>\n",
       "      <td>1550</td>\n",
       "      <td>1595</td>\n",
       "      <td>3585</td>\n",
       "      <td>-</td>\n",
       "      <td>-</td>\n",
       "      <td>165 Kmph</td>\n",
       "      <td>https://www.cardekho.com/used-cars+in+lucknow</td>\n",
       "      <td>1.80</td>\n",
       "    </tr>\n",
       "    <tr>\n",
       "      <th>5178</th>\n",
       "      <td>2021 Mercedes-Benz AMG C 43</td>\n",
       "      <td>Petrol</td>\n",
       "      <td>1,500 kms</td>\n",
       "      <td>2996</td>\n",
       "      <td>Automatic</td>\n",
       "      <td>-</td>\n",
       "      <td>5</td>\n",
       "      <td>Black</td>\n",
       "      <td>384.87</td>\n",
       "      <td>Ventilated Disc</td>\n",
       "      <td>Ventilated Disc</td>\n",
       "      <td>-</td>\n",
       "      <td>1402</td>\n",
       "      <td>2016</td>\n",
       "      <td>4693</td>\n",
       "      <td>-</td>\n",
       "      <td>-</td>\n",
       "      <td>250km/h</td>\n",
       "      <td>https://www.cardekho.com/used-cars+in+lucknow</td>\n",
       "      <td>79.00</td>\n",
       "    </tr>\n",
       "  </tbody>\n",
       "</table>\n",
       "<p>5179 rows × 20 columns</p>\n",
       "</div>"
      ],
      "text/plain": [
       "                         Car_Name Fuel_type Running_in_kms Endine_disp  \\\n",
       "0           2017 Volkswagen Vento    Petrol     43,688 kms       1197    \n",
       "1              2015 Hyundai Verna    Petrol     79,290 kms       1591    \n",
       "2           2017 Volkswagen Vento    Petrol     49,612 kms       1197    \n",
       "3               2019 Jeep Compass    Petrol     32,294 kms       1368    \n",
       "4          2016 Hyundai Grand i10    Petrol     59,313 kms       1197    \n",
       "...                           ...       ...            ...         ...   \n",
       "5174                  2020 BMW X7    Petrol   1,80,000 kms        2998   \n",
       "5175           2021 Jeep Wrangler    Petrol     10,000 kms        1998   \n",
       "5176             2017 Hyundai EON    Petrol     85,416 kms         814   \n",
       "5177             2011 Hyundai i10    Petrol   1,11,408 kms        1086   \n",
       "5178  2021 Mercedes-Benz AMG C 43    Petrol      1,500 kms        2996   \n",
       "\n",
       "     Gear_transmission Milage_in_km/ltr Seating_cap           color Max_power  \\\n",
       "0            Automatic       18.19 kmpl           5  Titanium Beige     103.2   \n",
       "1               Manual       17.01 kmpl           5      Pure white     121.4   \n",
       "2            Automatic       18.19 kmpl           5    Carbon Steel     103.2   \n",
       "3            Automatic          16 kmpl           5            Grey    160.77   \n",
       "4            Automatic        18.9 kmpl           5        Wine Red        82   \n",
       "...                ...              ...         ...             ...       ...   \n",
       "5174         Automatic       10.54 kmpl           7            Grey    335.25   \n",
       "5175         Automatic        12.1 kmpl           5           Black       268   \n",
       "5176            Manual        21.1 kmpl           5       Star Dust      55.2   \n",
       "5177            Manual       19.81 kmpl           5            Grey     68.05   \n",
       "5178         Automatic                -           5           Black    384.87   \n",
       "\n",
       "     front_brake_type  rear_brake_type cargo_volume height width length  \\\n",
       "0     Ventilated Disc             Drum          494   1467  1699   4390   \n",
       "1                Disc             Drum   465-litres   1475  1700   4375   \n",
       "2     Ventilated Disc             Drum          494   1467  1699   4390   \n",
       "3                Disc            Discs   408-litres   1640  1818   4395   \n",
       "4                Disc             Drum   256-liters   1520  1660   3765   \n",
       "...               ...              ...          ...    ...   ...    ...   \n",
       "5174             Disc             Disc            -   1805  2218   5150   \n",
       "5175  Ventilated Disc  Ventilated Disc            -   1838  1894   4882   \n",
       "5176             Disc             Drum   215-litres   1500  1550   3495   \n",
       "5177  Ventilated Disc             Drum   225-litres   1550  1595   3585   \n",
       "5178  Ventilated Disc  Ventilated Disc            -   1402  2016   4693   \n",
       "\n",
       "     Weight Insp_score    top_speed  \\\n",
       "0      1720          9     185 Kmph   \n",
       "1         -          9     196 Kmph   \n",
       "2      1720        9.5     185 Kmph   \n",
       "3         -        9.5  186.69 kmph   \n",
       "4         -          9     163 Kmph   \n",
       "...     ...        ...          ...   \n",
       "5174      -          -          245   \n",
       "5175      -          -            -   \n",
       "5176      -          -     135 Kmph   \n",
       "5177      -          -     165 Kmph   \n",
       "5178      -          -      250km/h   \n",
       "\n",
       "                                             City_url Car_price  \n",
       "0     https://www.cardekho.com/used-cars+in+ahmedabad      7.58  \n",
       "1     https://www.cardekho.com/used-cars+in+ahmedabad      5.88  \n",
       "2     https://www.cardekho.com/used-cars+in+ahmedabad      7.53  \n",
       "3     https://www.cardekho.com/used-cars+in+ahmedabad     16.78  \n",
       "4     https://www.cardekho.com/used-cars+in+ahmedabad      5.63  \n",
       "...                                               ...       ...  \n",
       "5174    https://www.cardekho.com/used-cars+in+lucknow      1.23  \n",
       "5175    https://www.cardekho.com/used-cars+in+lucknow     61.95  \n",
       "5176    https://www.cardekho.com/used-cars+in+lucknow      2.72  \n",
       "5177    https://www.cardekho.com/used-cars+in+lucknow      1.80  \n",
       "5178    https://www.cardekho.com/used-cars+in+lucknow     79.00  \n",
       "\n",
       "[5179 rows x 20 columns]"
      ]
     },
     "execution_count": 10,
     "metadata": {},
     "output_type": "execute_result"
    }
   ],
   "source": [
    "# Extracting 'Price' values from Price\n",
    "df['Car_price'] = df['Car_price'].str.split().str[0]\n",
    "df"
   ]
  },
  {
   "cell_type": "code",
   "execution_count": 11,
   "id": "ddc44944",
   "metadata": {},
   "outputs": [
    {
     "data": {
      "text/html": [
       "<div>\n",
       "<style scoped>\n",
       "    .dataframe tbody tr th:only-of-type {\n",
       "        vertical-align: middle;\n",
       "    }\n",
       "\n",
       "    .dataframe tbody tr th {\n",
       "        vertical-align: top;\n",
       "    }\n",
       "\n",
       "    .dataframe thead th {\n",
       "        text-align: right;\n",
       "    }\n",
       "</style>\n",
       "<table border=\"1\" class=\"dataframe\">\n",
       "  <thead>\n",
       "    <tr style=\"text-align: right;\">\n",
       "      <th></th>\n",
       "      <th>Car_Name</th>\n",
       "      <th>Fuel_type</th>\n",
       "      <th>Running_in_kms</th>\n",
       "      <th>Endine_disp</th>\n",
       "      <th>Gear_transmission</th>\n",
       "      <th>Milage_in_km/ltr</th>\n",
       "      <th>Seating_cap</th>\n",
       "      <th>color</th>\n",
       "      <th>Max_power</th>\n",
       "      <th>front_brake_type</th>\n",
       "      <th>rear_brake_type</th>\n",
       "      <th>cargo_volume</th>\n",
       "      <th>height</th>\n",
       "      <th>width</th>\n",
       "      <th>length</th>\n",
       "      <th>Weight</th>\n",
       "      <th>Insp_score</th>\n",
       "      <th>top_speed</th>\n",
       "      <th>City_url</th>\n",
       "      <th>Car_price</th>\n",
       "    </tr>\n",
       "  </thead>\n",
       "  <tbody>\n",
       "    <tr>\n",
       "      <th>0</th>\n",
       "      <td>2017 Volkswagen Vento</td>\n",
       "      <td>Petrol</td>\n",
       "      <td>43,688</td>\n",
       "      <td>1197</td>\n",
       "      <td>Automatic</td>\n",
       "      <td>18.19 kmpl</td>\n",
       "      <td>5</td>\n",
       "      <td>Titanium Beige</td>\n",
       "      <td>103.2</td>\n",
       "      <td>Ventilated Disc</td>\n",
       "      <td>Drum</td>\n",
       "      <td>494</td>\n",
       "      <td>1467</td>\n",
       "      <td>1699</td>\n",
       "      <td>4390</td>\n",
       "      <td>1720</td>\n",
       "      <td>9</td>\n",
       "      <td>185 Kmph</td>\n",
       "      <td>https://www.cardekho.com/used-cars+in+ahmedabad</td>\n",
       "      <td>7.58</td>\n",
       "    </tr>\n",
       "    <tr>\n",
       "      <th>1</th>\n",
       "      <td>2015 Hyundai Verna</td>\n",
       "      <td>Petrol</td>\n",
       "      <td>79,290</td>\n",
       "      <td>1591</td>\n",
       "      <td>Manual</td>\n",
       "      <td>17.01 kmpl</td>\n",
       "      <td>5</td>\n",
       "      <td>Pure white</td>\n",
       "      <td>121.4</td>\n",
       "      <td>Disc</td>\n",
       "      <td>Drum</td>\n",
       "      <td>465-litres</td>\n",
       "      <td>1475</td>\n",
       "      <td>1700</td>\n",
       "      <td>4375</td>\n",
       "      <td>-</td>\n",
       "      <td>9</td>\n",
       "      <td>196 Kmph</td>\n",
       "      <td>https://www.cardekho.com/used-cars+in+ahmedabad</td>\n",
       "      <td>5.88</td>\n",
       "    </tr>\n",
       "    <tr>\n",
       "      <th>2</th>\n",
       "      <td>2017 Volkswagen Vento</td>\n",
       "      <td>Petrol</td>\n",
       "      <td>49,612</td>\n",
       "      <td>1197</td>\n",
       "      <td>Automatic</td>\n",
       "      <td>18.19 kmpl</td>\n",
       "      <td>5</td>\n",
       "      <td>Carbon Steel</td>\n",
       "      <td>103.2</td>\n",
       "      <td>Ventilated Disc</td>\n",
       "      <td>Drum</td>\n",
       "      <td>494</td>\n",
       "      <td>1467</td>\n",
       "      <td>1699</td>\n",
       "      <td>4390</td>\n",
       "      <td>1720</td>\n",
       "      <td>9.5</td>\n",
       "      <td>185 Kmph</td>\n",
       "      <td>https://www.cardekho.com/used-cars+in+ahmedabad</td>\n",
       "      <td>7.53</td>\n",
       "    </tr>\n",
       "    <tr>\n",
       "      <th>3</th>\n",
       "      <td>2019 Jeep Compass</td>\n",
       "      <td>Petrol</td>\n",
       "      <td>32,294</td>\n",
       "      <td>1368</td>\n",
       "      <td>Automatic</td>\n",
       "      <td>16 kmpl</td>\n",
       "      <td>5</td>\n",
       "      <td>Grey</td>\n",
       "      <td>160.77</td>\n",
       "      <td>Disc</td>\n",
       "      <td>Discs</td>\n",
       "      <td>408-litres</td>\n",
       "      <td>1640</td>\n",
       "      <td>1818</td>\n",
       "      <td>4395</td>\n",
       "      <td>-</td>\n",
       "      <td>9.5</td>\n",
       "      <td>186.69 kmph</td>\n",
       "      <td>https://www.cardekho.com/used-cars+in+ahmedabad</td>\n",
       "      <td>16.78</td>\n",
       "    </tr>\n",
       "    <tr>\n",
       "      <th>4</th>\n",
       "      <td>2016 Hyundai Grand i10</td>\n",
       "      <td>Petrol</td>\n",
       "      <td>59,313</td>\n",
       "      <td>1197</td>\n",
       "      <td>Automatic</td>\n",
       "      <td>18.9 kmpl</td>\n",
       "      <td>5</td>\n",
       "      <td>Wine Red</td>\n",
       "      <td>82</td>\n",
       "      <td>Disc</td>\n",
       "      <td>Drum</td>\n",
       "      <td>256-liters</td>\n",
       "      <td>1520</td>\n",
       "      <td>1660</td>\n",
       "      <td>3765</td>\n",
       "      <td>-</td>\n",
       "      <td>9</td>\n",
       "      <td>163 Kmph</td>\n",
       "      <td>https://www.cardekho.com/used-cars+in+ahmedabad</td>\n",
       "      <td>5.63</td>\n",
       "    </tr>\n",
       "    <tr>\n",
       "      <th>...</th>\n",
       "      <td>...</td>\n",
       "      <td>...</td>\n",
       "      <td>...</td>\n",
       "      <td>...</td>\n",
       "      <td>...</td>\n",
       "      <td>...</td>\n",
       "      <td>...</td>\n",
       "      <td>...</td>\n",
       "      <td>...</td>\n",
       "      <td>...</td>\n",
       "      <td>...</td>\n",
       "      <td>...</td>\n",
       "      <td>...</td>\n",
       "      <td>...</td>\n",
       "      <td>...</td>\n",
       "      <td>...</td>\n",
       "      <td>...</td>\n",
       "      <td>...</td>\n",
       "      <td>...</td>\n",
       "      <td>...</td>\n",
       "    </tr>\n",
       "    <tr>\n",
       "      <th>5174</th>\n",
       "      <td>2020 BMW X7</td>\n",
       "      <td>Petrol</td>\n",
       "      <td>1,80,000</td>\n",
       "      <td>2998</td>\n",
       "      <td>Automatic</td>\n",
       "      <td>10.54 kmpl</td>\n",
       "      <td>7</td>\n",
       "      <td>Grey</td>\n",
       "      <td>335.25</td>\n",
       "      <td>Disc</td>\n",
       "      <td>Disc</td>\n",
       "      <td>-</td>\n",
       "      <td>1805</td>\n",
       "      <td>2218</td>\n",
       "      <td>5150</td>\n",
       "      <td>-</td>\n",
       "      <td>-</td>\n",
       "      <td>245</td>\n",
       "      <td>https://www.cardekho.com/used-cars+in+lucknow</td>\n",
       "      <td>1.23</td>\n",
       "    </tr>\n",
       "    <tr>\n",
       "      <th>5175</th>\n",
       "      <td>2021 Jeep Wrangler</td>\n",
       "      <td>Petrol</td>\n",
       "      <td>10,000</td>\n",
       "      <td>1998</td>\n",
       "      <td>Automatic</td>\n",
       "      <td>12.1 kmpl</td>\n",
       "      <td>5</td>\n",
       "      <td>Black</td>\n",
       "      <td>268</td>\n",
       "      <td>Ventilated Disc</td>\n",
       "      <td>Ventilated Disc</td>\n",
       "      <td>-</td>\n",
       "      <td>1838</td>\n",
       "      <td>1894</td>\n",
       "      <td>4882</td>\n",
       "      <td>-</td>\n",
       "      <td>-</td>\n",
       "      <td>-</td>\n",
       "      <td>https://www.cardekho.com/used-cars+in+lucknow</td>\n",
       "      <td>61.95</td>\n",
       "    </tr>\n",
       "    <tr>\n",
       "      <th>5176</th>\n",
       "      <td>2017 Hyundai EON</td>\n",
       "      <td>Petrol</td>\n",
       "      <td>85,416</td>\n",
       "      <td>814</td>\n",
       "      <td>Manual</td>\n",
       "      <td>21.1 kmpl</td>\n",
       "      <td>5</td>\n",
       "      <td>Star Dust</td>\n",
       "      <td>55.2</td>\n",
       "      <td>Disc</td>\n",
       "      <td>Drum</td>\n",
       "      <td>215-litres</td>\n",
       "      <td>1500</td>\n",
       "      <td>1550</td>\n",
       "      <td>3495</td>\n",
       "      <td>-</td>\n",
       "      <td>-</td>\n",
       "      <td>135 Kmph</td>\n",
       "      <td>https://www.cardekho.com/used-cars+in+lucknow</td>\n",
       "      <td>2.72</td>\n",
       "    </tr>\n",
       "    <tr>\n",
       "      <th>5177</th>\n",
       "      <td>2011 Hyundai i10</td>\n",
       "      <td>Petrol</td>\n",
       "      <td>1,11,408</td>\n",
       "      <td>1086</td>\n",
       "      <td>Manual</td>\n",
       "      <td>19.81 kmpl</td>\n",
       "      <td>5</td>\n",
       "      <td>Grey</td>\n",
       "      <td>68.05</td>\n",
       "      <td>Ventilated Disc</td>\n",
       "      <td>Drum</td>\n",
       "      <td>225-litres</td>\n",
       "      <td>1550</td>\n",
       "      <td>1595</td>\n",
       "      <td>3585</td>\n",
       "      <td>-</td>\n",
       "      <td>-</td>\n",
       "      <td>165 Kmph</td>\n",
       "      <td>https://www.cardekho.com/used-cars+in+lucknow</td>\n",
       "      <td>1.80</td>\n",
       "    </tr>\n",
       "    <tr>\n",
       "      <th>5178</th>\n",
       "      <td>2021 Mercedes-Benz AMG C 43</td>\n",
       "      <td>Petrol</td>\n",
       "      <td>1,500</td>\n",
       "      <td>2996</td>\n",
       "      <td>Automatic</td>\n",
       "      <td>-</td>\n",
       "      <td>5</td>\n",
       "      <td>Black</td>\n",
       "      <td>384.87</td>\n",
       "      <td>Ventilated Disc</td>\n",
       "      <td>Ventilated Disc</td>\n",
       "      <td>-</td>\n",
       "      <td>1402</td>\n",
       "      <td>2016</td>\n",
       "      <td>4693</td>\n",
       "      <td>-</td>\n",
       "      <td>-</td>\n",
       "      <td>250km/h</td>\n",
       "      <td>https://www.cardekho.com/used-cars+in+lucknow</td>\n",
       "      <td>79.00</td>\n",
       "    </tr>\n",
       "  </tbody>\n",
       "</table>\n",
       "<p>5179 rows × 20 columns</p>\n",
       "</div>"
      ],
      "text/plain": [
       "                         Car_Name Fuel_type Running_in_kms Endine_disp  \\\n",
       "0           2017 Volkswagen Vento    Petrol         43,688       1197    \n",
       "1              2015 Hyundai Verna    Petrol         79,290       1591    \n",
       "2           2017 Volkswagen Vento    Petrol         49,612       1197    \n",
       "3               2019 Jeep Compass    Petrol         32,294       1368    \n",
       "4          2016 Hyundai Grand i10    Petrol         59,313       1197    \n",
       "...                           ...       ...            ...         ...   \n",
       "5174                  2020 BMW X7    Petrol       1,80,000        2998   \n",
       "5175           2021 Jeep Wrangler    Petrol         10,000        1998   \n",
       "5176             2017 Hyundai EON    Petrol         85,416         814   \n",
       "5177             2011 Hyundai i10    Petrol       1,11,408        1086   \n",
       "5178  2021 Mercedes-Benz AMG C 43    Petrol          1,500        2996   \n",
       "\n",
       "     Gear_transmission Milage_in_km/ltr Seating_cap           color Max_power  \\\n",
       "0            Automatic       18.19 kmpl           5  Titanium Beige     103.2   \n",
       "1               Manual       17.01 kmpl           5      Pure white     121.4   \n",
       "2            Automatic       18.19 kmpl           5    Carbon Steel     103.2   \n",
       "3            Automatic          16 kmpl           5            Grey    160.77   \n",
       "4            Automatic        18.9 kmpl           5        Wine Red        82   \n",
       "...                ...              ...         ...             ...       ...   \n",
       "5174         Automatic       10.54 kmpl           7            Grey    335.25   \n",
       "5175         Automatic        12.1 kmpl           5           Black       268   \n",
       "5176            Manual        21.1 kmpl           5       Star Dust      55.2   \n",
       "5177            Manual       19.81 kmpl           5            Grey     68.05   \n",
       "5178         Automatic                -           5           Black    384.87   \n",
       "\n",
       "     front_brake_type  rear_brake_type cargo_volume height width length  \\\n",
       "0     Ventilated Disc             Drum          494   1467  1699   4390   \n",
       "1                Disc             Drum   465-litres   1475  1700   4375   \n",
       "2     Ventilated Disc             Drum          494   1467  1699   4390   \n",
       "3                Disc            Discs   408-litres   1640  1818   4395   \n",
       "4                Disc             Drum   256-liters   1520  1660   3765   \n",
       "...               ...              ...          ...    ...   ...    ...   \n",
       "5174             Disc             Disc            -   1805  2218   5150   \n",
       "5175  Ventilated Disc  Ventilated Disc            -   1838  1894   4882   \n",
       "5176             Disc             Drum   215-litres   1500  1550   3495   \n",
       "5177  Ventilated Disc             Drum   225-litres   1550  1595   3585   \n",
       "5178  Ventilated Disc  Ventilated Disc            -   1402  2016   4693   \n",
       "\n",
       "     Weight Insp_score    top_speed  \\\n",
       "0      1720          9     185 Kmph   \n",
       "1         -          9     196 Kmph   \n",
       "2      1720        9.5     185 Kmph   \n",
       "3         -        9.5  186.69 kmph   \n",
       "4         -          9     163 Kmph   \n",
       "...     ...        ...          ...   \n",
       "5174      -          -          245   \n",
       "5175      -          -            -   \n",
       "5176      -          -     135 Kmph   \n",
       "5177      -          -     165 Kmph   \n",
       "5178      -          -      250km/h   \n",
       "\n",
       "                                             City_url Car_price  \n",
       "0     https://www.cardekho.com/used-cars+in+ahmedabad      7.58  \n",
       "1     https://www.cardekho.com/used-cars+in+ahmedabad      5.88  \n",
       "2     https://www.cardekho.com/used-cars+in+ahmedabad      7.53  \n",
       "3     https://www.cardekho.com/used-cars+in+ahmedabad     16.78  \n",
       "4     https://www.cardekho.com/used-cars+in+ahmedabad      5.63  \n",
       "...                                               ...       ...  \n",
       "5174    https://www.cardekho.com/used-cars+in+lucknow      1.23  \n",
       "5175    https://www.cardekho.com/used-cars+in+lucknow     61.95  \n",
       "5176    https://www.cardekho.com/used-cars+in+lucknow      2.72  \n",
       "5177    https://www.cardekho.com/used-cars+in+lucknow      1.80  \n",
       "5178    https://www.cardekho.com/used-cars+in+lucknow     79.00  \n",
       "\n",
       "[5179 rows x 20 columns]"
      ]
     },
     "execution_count": 11,
     "metadata": {},
     "output_type": "execute_result"
    }
   ],
   "source": [
    "# Extracting 'KMS_driven' from KMS_driven\n",
    "df['Running_in_kms'] = df['Running_in_kms'].str.split().str[0]\n",
    "df"
   ]
  },
  {
   "cell_type": "code",
   "execution_count": 12,
   "id": "795ed40f",
   "metadata": {},
   "outputs": [
    {
     "data": {
      "text/html": [
       "<div>\n",
       "<style scoped>\n",
       "    .dataframe tbody tr th:only-of-type {\n",
       "        vertical-align: middle;\n",
       "    }\n",
       "\n",
       "    .dataframe tbody tr th {\n",
       "        vertical-align: top;\n",
       "    }\n",
       "\n",
       "    .dataframe thead th {\n",
       "        text-align: right;\n",
       "    }\n",
       "</style>\n",
       "<table border=\"1\" class=\"dataframe\">\n",
       "  <thead>\n",
       "    <tr style=\"text-align: right;\">\n",
       "      <th></th>\n",
       "      <th>Car_Name</th>\n",
       "      <th>Fuel_type</th>\n",
       "      <th>Running_in_kms</th>\n",
       "      <th>Endine_disp</th>\n",
       "      <th>Gear_transmission</th>\n",
       "      <th>Milage_in_km/ltr</th>\n",
       "      <th>Seating_cap</th>\n",
       "      <th>color</th>\n",
       "      <th>Max_power</th>\n",
       "      <th>front_brake_type</th>\n",
       "      <th>...</th>\n",
       "      <th>height</th>\n",
       "      <th>width</th>\n",
       "      <th>length</th>\n",
       "      <th>Weight</th>\n",
       "      <th>Insp_score</th>\n",
       "      <th>top_speed</th>\n",
       "      <th>City_url</th>\n",
       "      <th>Car_price</th>\n",
       "      <th>Manuf_Year</th>\n",
       "      <th>Brand</th>\n",
       "    </tr>\n",
       "  </thead>\n",
       "  <tbody>\n",
       "    <tr>\n",
       "      <th>0</th>\n",
       "      <td>2017 Volkswagen Vento</td>\n",
       "      <td>Petrol</td>\n",
       "      <td>43,688</td>\n",
       "      <td>1197</td>\n",
       "      <td>Automatic</td>\n",
       "      <td>18.19 kmpl</td>\n",
       "      <td>5</td>\n",
       "      <td>Titanium Beige</td>\n",
       "      <td>103.2</td>\n",
       "      <td>Ventilated Disc</td>\n",
       "      <td>...</td>\n",
       "      <td>1467</td>\n",
       "      <td>1699</td>\n",
       "      <td>4390</td>\n",
       "      <td>1720</td>\n",
       "      <td>9</td>\n",
       "      <td>185 Kmph</td>\n",
       "      <td>https://www.cardekho.com/used-cars+in+ahmedabad</td>\n",
       "      <td>7.58</td>\n",
       "      <td>2017</td>\n",
       "      <td>Volkswagen</td>\n",
       "    </tr>\n",
       "    <tr>\n",
       "      <th>1</th>\n",
       "      <td>2015 Hyundai Verna</td>\n",
       "      <td>Petrol</td>\n",
       "      <td>79,290</td>\n",
       "      <td>1591</td>\n",
       "      <td>Manual</td>\n",
       "      <td>17.01 kmpl</td>\n",
       "      <td>5</td>\n",
       "      <td>Pure white</td>\n",
       "      <td>121.4</td>\n",
       "      <td>Disc</td>\n",
       "      <td>...</td>\n",
       "      <td>1475</td>\n",
       "      <td>1700</td>\n",
       "      <td>4375</td>\n",
       "      <td>-</td>\n",
       "      <td>9</td>\n",
       "      <td>196 Kmph</td>\n",
       "      <td>https://www.cardekho.com/used-cars+in+ahmedabad</td>\n",
       "      <td>5.88</td>\n",
       "      <td>2015</td>\n",
       "      <td>Hyundai</td>\n",
       "    </tr>\n",
       "    <tr>\n",
       "      <th>2</th>\n",
       "      <td>2017 Volkswagen Vento</td>\n",
       "      <td>Petrol</td>\n",
       "      <td>49,612</td>\n",
       "      <td>1197</td>\n",
       "      <td>Automatic</td>\n",
       "      <td>18.19 kmpl</td>\n",
       "      <td>5</td>\n",
       "      <td>Carbon Steel</td>\n",
       "      <td>103.2</td>\n",
       "      <td>Ventilated Disc</td>\n",
       "      <td>...</td>\n",
       "      <td>1467</td>\n",
       "      <td>1699</td>\n",
       "      <td>4390</td>\n",
       "      <td>1720</td>\n",
       "      <td>9.5</td>\n",
       "      <td>185 Kmph</td>\n",
       "      <td>https://www.cardekho.com/used-cars+in+ahmedabad</td>\n",
       "      <td>7.53</td>\n",
       "      <td>2017</td>\n",
       "      <td>Volkswagen</td>\n",
       "    </tr>\n",
       "    <tr>\n",
       "      <th>3</th>\n",
       "      <td>2019 Jeep Compass</td>\n",
       "      <td>Petrol</td>\n",
       "      <td>32,294</td>\n",
       "      <td>1368</td>\n",
       "      <td>Automatic</td>\n",
       "      <td>16 kmpl</td>\n",
       "      <td>5</td>\n",
       "      <td>Grey</td>\n",
       "      <td>160.77</td>\n",
       "      <td>Disc</td>\n",
       "      <td>...</td>\n",
       "      <td>1640</td>\n",
       "      <td>1818</td>\n",
       "      <td>4395</td>\n",
       "      <td>-</td>\n",
       "      <td>9.5</td>\n",
       "      <td>186.69 kmph</td>\n",
       "      <td>https://www.cardekho.com/used-cars+in+ahmedabad</td>\n",
       "      <td>16.78</td>\n",
       "      <td>2019</td>\n",
       "      <td>Jeep</td>\n",
       "    </tr>\n",
       "    <tr>\n",
       "      <th>4</th>\n",
       "      <td>2016 Hyundai Grand i10</td>\n",
       "      <td>Petrol</td>\n",
       "      <td>59,313</td>\n",
       "      <td>1197</td>\n",
       "      <td>Automatic</td>\n",
       "      <td>18.9 kmpl</td>\n",
       "      <td>5</td>\n",
       "      <td>Wine Red</td>\n",
       "      <td>82</td>\n",
       "      <td>Disc</td>\n",
       "      <td>...</td>\n",
       "      <td>1520</td>\n",
       "      <td>1660</td>\n",
       "      <td>3765</td>\n",
       "      <td>-</td>\n",
       "      <td>9</td>\n",
       "      <td>163 Kmph</td>\n",
       "      <td>https://www.cardekho.com/used-cars+in+ahmedabad</td>\n",
       "      <td>5.63</td>\n",
       "      <td>2016</td>\n",
       "      <td>Hyundai</td>\n",
       "    </tr>\n",
       "    <tr>\n",
       "      <th>...</th>\n",
       "      <td>...</td>\n",
       "      <td>...</td>\n",
       "      <td>...</td>\n",
       "      <td>...</td>\n",
       "      <td>...</td>\n",
       "      <td>...</td>\n",
       "      <td>...</td>\n",
       "      <td>...</td>\n",
       "      <td>...</td>\n",
       "      <td>...</td>\n",
       "      <td>...</td>\n",
       "      <td>...</td>\n",
       "      <td>...</td>\n",
       "      <td>...</td>\n",
       "      <td>...</td>\n",
       "      <td>...</td>\n",
       "      <td>...</td>\n",
       "      <td>...</td>\n",
       "      <td>...</td>\n",
       "      <td>...</td>\n",
       "      <td>...</td>\n",
       "    </tr>\n",
       "    <tr>\n",
       "      <th>5174</th>\n",
       "      <td>2020 BMW X7</td>\n",
       "      <td>Petrol</td>\n",
       "      <td>1,80,000</td>\n",
       "      <td>2998</td>\n",
       "      <td>Automatic</td>\n",
       "      <td>10.54 kmpl</td>\n",
       "      <td>7</td>\n",
       "      <td>Grey</td>\n",
       "      <td>335.25</td>\n",
       "      <td>Disc</td>\n",
       "      <td>...</td>\n",
       "      <td>1805</td>\n",
       "      <td>2218</td>\n",
       "      <td>5150</td>\n",
       "      <td>-</td>\n",
       "      <td>-</td>\n",
       "      <td>245</td>\n",
       "      <td>https://www.cardekho.com/used-cars+in+lucknow</td>\n",
       "      <td>1.23</td>\n",
       "      <td>2020</td>\n",
       "      <td>BMW</td>\n",
       "    </tr>\n",
       "    <tr>\n",
       "      <th>5175</th>\n",
       "      <td>2021 Jeep Wrangler</td>\n",
       "      <td>Petrol</td>\n",
       "      <td>10,000</td>\n",
       "      <td>1998</td>\n",
       "      <td>Automatic</td>\n",
       "      <td>12.1 kmpl</td>\n",
       "      <td>5</td>\n",
       "      <td>Black</td>\n",
       "      <td>268</td>\n",
       "      <td>Ventilated Disc</td>\n",
       "      <td>...</td>\n",
       "      <td>1838</td>\n",
       "      <td>1894</td>\n",
       "      <td>4882</td>\n",
       "      <td>-</td>\n",
       "      <td>-</td>\n",
       "      <td>-</td>\n",
       "      <td>https://www.cardekho.com/used-cars+in+lucknow</td>\n",
       "      <td>61.95</td>\n",
       "      <td>2021</td>\n",
       "      <td>Jeep</td>\n",
       "    </tr>\n",
       "    <tr>\n",
       "      <th>5176</th>\n",
       "      <td>2017 Hyundai EON</td>\n",
       "      <td>Petrol</td>\n",
       "      <td>85,416</td>\n",
       "      <td>814</td>\n",
       "      <td>Manual</td>\n",
       "      <td>21.1 kmpl</td>\n",
       "      <td>5</td>\n",
       "      <td>Star Dust</td>\n",
       "      <td>55.2</td>\n",
       "      <td>Disc</td>\n",
       "      <td>...</td>\n",
       "      <td>1500</td>\n",
       "      <td>1550</td>\n",
       "      <td>3495</td>\n",
       "      <td>-</td>\n",
       "      <td>-</td>\n",
       "      <td>135 Kmph</td>\n",
       "      <td>https://www.cardekho.com/used-cars+in+lucknow</td>\n",
       "      <td>2.72</td>\n",
       "      <td>2017</td>\n",
       "      <td>Hyundai</td>\n",
       "    </tr>\n",
       "    <tr>\n",
       "      <th>5177</th>\n",
       "      <td>2011 Hyundai i10</td>\n",
       "      <td>Petrol</td>\n",
       "      <td>1,11,408</td>\n",
       "      <td>1086</td>\n",
       "      <td>Manual</td>\n",
       "      <td>19.81 kmpl</td>\n",
       "      <td>5</td>\n",
       "      <td>Grey</td>\n",
       "      <td>68.05</td>\n",
       "      <td>Ventilated Disc</td>\n",
       "      <td>...</td>\n",
       "      <td>1550</td>\n",
       "      <td>1595</td>\n",
       "      <td>3585</td>\n",
       "      <td>-</td>\n",
       "      <td>-</td>\n",
       "      <td>165 Kmph</td>\n",
       "      <td>https://www.cardekho.com/used-cars+in+lucknow</td>\n",
       "      <td>1.80</td>\n",
       "      <td>2011</td>\n",
       "      <td>Hyundai</td>\n",
       "    </tr>\n",
       "    <tr>\n",
       "      <th>5178</th>\n",
       "      <td>2021 Mercedes-Benz AMG C 43</td>\n",
       "      <td>Petrol</td>\n",
       "      <td>1,500</td>\n",
       "      <td>2996</td>\n",
       "      <td>Automatic</td>\n",
       "      <td>-</td>\n",
       "      <td>5</td>\n",
       "      <td>Black</td>\n",
       "      <td>384.87</td>\n",
       "      <td>Ventilated Disc</td>\n",
       "      <td>...</td>\n",
       "      <td>1402</td>\n",
       "      <td>2016</td>\n",
       "      <td>4693</td>\n",
       "      <td>-</td>\n",
       "      <td>-</td>\n",
       "      <td>250km/h</td>\n",
       "      <td>https://www.cardekho.com/used-cars+in+lucknow</td>\n",
       "      <td>79.00</td>\n",
       "      <td>2021</td>\n",
       "      <td>Mercedes-Benz</td>\n",
       "    </tr>\n",
       "  </tbody>\n",
       "</table>\n",
       "<p>5179 rows × 22 columns</p>\n",
       "</div>"
      ],
      "text/plain": [
       "                         Car_Name Fuel_type Running_in_kms Endine_disp  \\\n",
       "0           2017 Volkswagen Vento    Petrol         43,688       1197    \n",
       "1              2015 Hyundai Verna    Petrol         79,290       1591    \n",
       "2           2017 Volkswagen Vento    Petrol         49,612       1197    \n",
       "3               2019 Jeep Compass    Petrol         32,294       1368    \n",
       "4          2016 Hyundai Grand i10    Petrol         59,313       1197    \n",
       "...                           ...       ...            ...         ...   \n",
       "5174                  2020 BMW X7    Petrol       1,80,000        2998   \n",
       "5175           2021 Jeep Wrangler    Petrol         10,000        1998   \n",
       "5176             2017 Hyundai EON    Petrol         85,416         814   \n",
       "5177             2011 Hyundai i10    Petrol       1,11,408        1086   \n",
       "5178  2021 Mercedes-Benz AMG C 43    Petrol          1,500        2996   \n",
       "\n",
       "     Gear_transmission Milage_in_km/ltr Seating_cap           color Max_power  \\\n",
       "0            Automatic       18.19 kmpl           5  Titanium Beige     103.2   \n",
       "1               Manual       17.01 kmpl           5      Pure white     121.4   \n",
       "2            Automatic       18.19 kmpl           5    Carbon Steel     103.2   \n",
       "3            Automatic          16 kmpl           5            Grey    160.77   \n",
       "4            Automatic        18.9 kmpl           5        Wine Red        82   \n",
       "...                ...              ...         ...             ...       ...   \n",
       "5174         Automatic       10.54 kmpl           7            Grey    335.25   \n",
       "5175         Automatic        12.1 kmpl           5           Black       268   \n",
       "5176            Manual        21.1 kmpl           5       Star Dust      55.2   \n",
       "5177            Manual       19.81 kmpl           5            Grey     68.05   \n",
       "5178         Automatic                -           5           Black    384.87   \n",
       "\n",
       "     front_brake_type  ... height width length Weight Insp_score    top_speed  \\\n",
       "0     Ventilated Disc  ...   1467  1699   4390   1720          9     185 Kmph   \n",
       "1                Disc  ...   1475  1700   4375      -          9     196 Kmph   \n",
       "2     Ventilated Disc  ...   1467  1699   4390   1720        9.5     185 Kmph   \n",
       "3                Disc  ...   1640  1818   4395      -        9.5  186.69 kmph   \n",
       "4                Disc  ...   1520  1660   3765      -          9     163 Kmph   \n",
       "...               ...  ...    ...   ...    ...    ...        ...          ...   \n",
       "5174             Disc  ...   1805  2218   5150      -          -          245   \n",
       "5175  Ventilated Disc  ...   1838  1894   4882      -          -            -   \n",
       "5176             Disc  ...   1500  1550   3495      -          -     135 Kmph   \n",
       "5177  Ventilated Disc  ...   1550  1595   3585      -          -     165 Kmph   \n",
       "5178  Ventilated Disc  ...   1402  2016   4693      -          -      250km/h   \n",
       "\n",
       "                                             City_url Car_price Manuf_Year  \\\n",
       "0     https://www.cardekho.com/used-cars+in+ahmedabad      7.58       2017   \n",
       "1     https://www.cardekho.com/used-cars+in+ahmedabad      5.88       2015   \n",
       "2     https://www.cardekho.com/used-cars+in+ahmedabad      7.53       2017   \n",
       "3     https://www.cardekho.com/used-cars+in+ahmedabad     16.78       2019   \n",
       "4     https://www.cardekho.com/used-cars+in+ahmedabad      5.63       2016   \n",
       "...                                               ...       ...        ...   \n",
       "5174    https://www.cardekho.com/used-cars+in+lucknow      1.23       2020   \n",
       "5175    https://www.cardekho.com/used-cars+in+lucknow     61.95       2021   \n",
       "5176    https://www.cardekho.com/used-cars+in+lucknow      2.72       2017   \n",
       "5177    https://www.cardekho.com/used-cars+in+lucknow      1.80       2011   \n",
       "5178    https://www.cardekho.com/used-cars+in+lucknow     79.00       2021   \n",
       "\n",
       "              Brand  \n",
       "0        Volkswagen  \n",
       "1           Hyundai  \n",
       "2        Volkswagen  \n",
       "3              Jeep  \n",
       "4           Hyundai  \n",
       "...             ...  \n",
       "5174            BMW  \n",
       "5175           Jeep  \n",
       "5176        Hyundai  \n",
       "5177        Hyundai  \n",
       "5178  Mercedes-Benz  \n",
       "\n",
       "[5179 rows x 22 columns]"
      ]
     },
     "execution_count": 12,
     "metadata": {},
     "output_type": "execute_result"
    }
   ],
   "source": [
    "# Extracting Manufacturing Year from Brand\n",
    "df['Manuf_Year'] = df['Car_Name'].str.split().str[0]\n",
    "df['Brand'] = df['Car_Name'].str.split().str[1]\n",
    "df"
   ]
  },
  {
   "cell_type": "code",
   "execution_count": 13,
   "id": "8d6f7171",
   "metadata": {},
   "outputs": [],
   "source": [
    "df.drop(\"Car_Name\",axis=1,inplace=True)"
   ]
  },
  {
   "cell_type": "code",
   "execution_count": 14,
   "id": "45d9e88b",
   "metadata": {},
   "outputs": [],
   "source": [
    "# Converting object data type columns to float data type\n",
    "df = df.astype({'Car_price':'float', 'Manuf_Year':'int'})"
   ]
  },
  {
   "cell_type": "code",
   "execution_count": 15,
   "id": "ff6dd019",
   "metadata": {},
   "outputs": [
    {
     "data": {
      "text/plain": [
       "Fuel_type             object\n",
       "Running_in_kms        object\n",
       "Endine_disp           object\n",
       "Gear_transmission     object\n",
       "Milage_in_km/ltr      object\n",
       "Seating_cap           object\n",
       "color                 object\n",
       "Max_power             object\n",
       "front_brake_type      object\n",
       "rear_brake_type       object\n",
       "cargo_volume          object\n",
       "height                object\n",
       "width                 object\n",
       "length                object\n",
       "Weight                object\n",
       "Insp_score            object\n",
       "top_speed             object\n",
       "City_url              object\n",
       "Car_price            float64\n",
       "Manuf_Year             int32\n",
       "Brand                 object\n",
       "dtype: object"
      ]
     },
     "execution_count": 15,
     "metadata": {},
     "output_type": "execute_result"
    }
   ],
   "source": [
    "df.dtypes"
   ]
  },
  {
   "cell_type": "code",
   "execution_count": 16,
   "id": "118ae35f",
   "metadata": {},
   "outputs": [],
   "source": [
    "df = pd.DataFrame(df)\n",
    "df.drop(df.columns[[2, 10, 11, 12, 7, 13, 8, 9, 14, 15, 16,17, 5, 6]], axis=1, inplace=True)"
   ]
  },
  {
   "cell_type": "code",
   "execution_count": 17,
   "id": "84119bfd",
   "metadata": {},
   "outputs": [
    {
     "data": {
      "text/plain": [
       "Index(['Fuel_type', 'Running_in_kms', 'Gear_transmission', 'Milage_in_km/ltr',\n",
       "       'Car_price', 'Manuf_Year', 'Brand'],\n",
       "      dtype='object')"
      ]
     },
     "execution_count": 17,
     "metadata": {},
     "output_type": "execute_result"
    }
   ],
   "source": [
    "df.columns"
   ]
  },
  {
   "cell_type": "code",
   "execution_count": 18,
   "id": "7c5932e7",
   "metadata": {},
   "outputs": [],
   "source": [
    "columns = ['Fuel','Kms','Gear','Mileage','Price','Year','Brand']"
   ]
  },
  {
   "cell_type": "code",
   "execution_count": 19,
   "id": "c0efda81",
   "metadata": {},
   "outputs": [],
   "source": [
    "df.columns=columns"
   ]
  },
  {
   "cell_type": "code",
   "execution_count": 20,
   "id": "4f32ff35",
   "metadata": {},
   "outputs": [
    {
     "data": {
      "text/plain": [
       "Index(['Fuel', 'Kms', 'Gear', 'Mileage', 'Price', 'Year', 'Brand'], dtype='object')"
      ]
     },
     "execution_count": 20,
     "metadata": {},
     "output_type": "execute_result"
    }
   ],
   "source": [
    "df.columns"
   ]
  },
  {
   "cell_type": "code",
   "execution_count": 21,
   "id": "71d67936",
   "metadata": {},
   "outputs": [
    {
     "data": {
      "text/plain": [
       "Fuel        object\n",
       "Kms         object\n",
       "Gear        object\n",
       "Mileage     object\n",
       "Price      float64\n",
       "Year         int32\n",
       "Brand       object\n",
       "dtype: object"
      ]
     },
     "execution_count": 21,
     "metadata": {},
     "output_type": "execute_result"
    }
   ],
   "source": [
    "df.dtypes"
   ]
  },
  {
   "cell_type": "code",
   "execution_count": 22,
   "id": "3da7ac9b",
   "metadata": {},
   "outputs": [
    {
     "data": {
      "text/html": [
       "<div>\n",
       "<style scoped>\n",
       "    .dataframe tbody tr th:only-of-type {\n",
       "        vertical-align: middle;\n",
       "    }\n",
       "\n",
       "    .dataframe tbody tr th {\n",
       "        vertical-align: top;\n",
       "    }\n",
       "\n",
       "    .dataframe thead th {\n",
       "        text-align: right;\n",
       "    }\n",
       "</style>\n",
       "<table border=\"1\" class=\"dataframe\">\n",
       "  <thead>\n",
       "    <tr style=\"text-align: right;\">\n",
       "      <th></th>\n",
       "      <th>Fuel</th>\n",
       "      <th>Kms</th>\n",
       "      <th>Gear</th>\n",
       "      <th>Mileage</th>\n",
       "      <th>Price</th>\n",
       "      <th>Year</th>\n",
       "      <th>Brand</th>\n",
       "    </tr>\n",
       "  </thead>\n",
       "  <tbody>\n",
       "    <tr>\n",
       "      <th>0</th>\n",
       "      <td>Petrol</td>\n",
       "      <td>43,688</td>\n",
       "      <td>Automatic</td>\n",
       "      <td>18.19 kmpl</td>\n",
       "      <td>7.58</td>\n",
       "      <td>2017</td>\n",
       "      <td>Volkswagen</td>\n",
       "    </tr>\n",
       "    <tr>\n",
       "      <th>1</th>\n",
       "      <td>Petrol</td>\n",
       "      <td>79,290</td>\n",
       "      <td>Manual</td>\n",
       "      <td>17.01 kmpl</td>\n",
       "      <td>5.88</td>\n",
       "      <td>2015</td>\n",
       "      <td>Hyundai</td>\n",
       "    </tr>\n",
       "    <tr>\n",
       "      <th>2</th>\n",
       "      <td>Petrol</td>\n",
       "      <td>49,612</td>\n",
       "      <td>Automatic</td>\n",
       "      <td>18.19 kmpl</td>\n",
       "      <td>7.53</td>\n",
       "      <td>2017</td>\n",
       "      <td>Volkswagen</td>\n",
       "    </tr>\n",
       "    <tr>\n",
       "      <th>3</th>\n",
       "      <td>Petrol</td>\n",
       "      <td>32,294</td>\n",
       "      <td>Automatic</td>\n",
       "      <td>16 kmpl</td>\n",
       "      <td>16.78</td>\n",
       "      <td>2019</td>\n",
       "      <td>Jeep</td>\n",
       "    </tr>\n",
       "    <tr>\n",
       "      <th>4</th>\n",
       "      <td>Petrol</td>\n",
       "      <td>59,313</td>\n",
       "      <td>Automatic</td>\n",
       "      <td>18.9 kmpl</td>\n",
       "      <td>5.63</td>\n",
       "      <td>2016</td>\n",
       "      <td>Hyundai</td>\n",
       "    </tr>\n",
       "  </tbody>\n",
       "</table>\n",
       "</div>"
      ],
      "text/plain": [
       "     Fuel     Kms       Gear     Mileage  Price  Year       Brand\n",
       "0  Petrol  43,688  Automatic  18.19 kmpl   7.58  2017  Volkswagen\n",
       "1  Petrol  79,290     Manual  17.01 kmpl   5.88  2015     Hyundai\n",
       "2  Petrol  49,612  Automatic  18.19 kmpl   7.53  2017  Volkswagen\n",
       "3  Petrol  32,294  Automatic     16 kmpl  16.78  2019        Jeep\n",
       "4  Petrol  59,313  Automatic   18.9 kmpl   5.63  2016     Hyundai"
      ]
     },
     "execution_count": 22,
     "metadata": {},
     "output_type": "execute_result"
    }
   ],
   "source": [
    "df.head()"
   ]
  },
  {
   "cell_type": "code",
   "execution_count": 26,
   "id": "da35bd4d",
   "metadata": {},
   "outputs": [],
   "source": [
    "import re\n",
    "df['Kms'] = pd.to_numeric(df['Kms'].apply(lambda miles: ''.join(re.findall(r'[0-9]*', miles))))"
   ]
  },
  {
   "cell_type": "code",
   "execution_count": 27,
   "id": "73511756",
   "metadata": {},
   "outputs": [
    {
     "data": {
      "text/plain": [
       "Fuel        object\n",
       "Kms          int64\n",
       "Gear        object\n",
       "Mileage    float64\n",
       "Price      float64\n",
       "Year         int32\n",
       "Brand       object\n",
       "dtype: object"
      ]
     },
     "execution_count": 27,
     "metadata": {},
     "output_type": "execute_result"
    }
   ],
   "source": [
    "df.dtypes"
   ]
  },
  {
   "cell_type": "code",
   "execution_count": 28,
   "id": "bb3f96fc",
   "metadata": {},
   "outputs": [
    {
     "data": {
      "text/html": [
       "<div>\n",
       "<style scoped>\n",
       "    .dataframe tbody tr th:only-of-type {\n",
       "        vertical-align: middle;\n",
       "    }\n",
       "\n",
       "    .dataframe tbody tr th {\n",
       "        vertical-align: top;\n",
       "    }\n",
       "\n",
       "    .dataframe thead th {\n",
       "        text-align: right;\n",
       "    }\n",
       "</style>\n",
       "<table border=\"1\" class=\"dataframe\">\n",
       "  <thead>\n",
       "    <tr style=\"text-align: right;\">\n",
       "      <th></th>\n",
       "      <th>Fuel</th>\n",
       "      <th>Kms</th>\n",
       "      <th>Gear</th>\n",
       "      <th>Mileage</th>\n",
       "      <th>Price</th>\n",
       "      <th>Year</th>\n",
       "      <th>Brand</th>\n",
       "    </tr>\n",
       "  </thead>\n",
       "  <tbody>\n",
       "    <tr>\n",
       "      <th>0</th>\n",
       "      <td>Petrol</td>\n",
       "      <td>43688</td>\n",
       "      <td>Automatic</td>\n",
       "      <td>18.19</td>\n",
       "      <td>7.58</td>\n",
       "      <td>2017</td>\n",
       "      <td>Volkswagen</td>\n",
       "    </tr>\n",
       "    <tr>\n",
       "      <th>1</th>\n",
       "      <td>Petrol</td>\n",
       "      <td>79290</td>\n",
       "      <td>Manual</td>\n",
       "      <td>17.01</td>\n",
       "      <td>5.88</td>\n",
       "      <td>2015</td>\n",
       "      <td>Hyundai</td>\n",
       "    </tr>\n",
       "    <tr>\n",
       "      <th>2</th>\n",
       "      <td>Petrol</td>\n",
       "      <td>49612</td>\n",
       "      <td>Automatic</td>\n",
       "      <td>18.19</td>\n",
       "      <td>7.53</td>\n",
       "      <td>2017</td>\n",
       "      <td>Volkswagen</td>\n",
       "    </tr>\n",
       "    <tr>\n",
       "      <th>3</th>\n",
       "      <td>Petrol</td>\n",
       "      <td>32294</td>\n",
       "      <td>Automatic</td>\n",
       "      <td>16.00</td>\n",
       "      <td>16.78</td>\n",
       "      <td>2019</td>\n",
       "      <td>Jeep</td>\n",
       "    </tr>\n",
       "    <tr>\n",
       "      <th>4</th>\n",
       "      <td>Petrol</td>\n",
       "      <td>59313</td>\n",
       "      <td>Automatic</td>\n",
       "      <td>18.90</td>\n",
       "      <td>5.63</td>\n",
       "      <td>2016</td>\n",
       "      <td>Hyundai</td>\n",
       "    </tr>\n",
       "  </tbody>\n",
       "</table>\n",
       "</div>"
      ],
      "text/plain": [
       "     Fuel    Kms       Gear  Mileage  Price  Year       Brand\n",
       "0  Petrol  43688  Automatic    18.19   7.58  2017  Volkswagen\n",
       "1  Petrol  79290     Manual    17.01   5.88  2015     Hyundai\n",
       "2  Petrol  49612  Automatic    18.19   7.53  2017  Volkswagen\n",
       "3  Petrol  32294  Automatic    16.00  16.78  2019        Jeep\n",
       "4  Petrol  59313  Automatic    18.90   5.63  2016     Hyundai"
      ]
     },
     "execution_count": 28,
     "metadata": {},
     "output_type": "execute_result"
    }
   ],
   "source": [
    "df.head()"
   ]
  },
  {
   "cell_type": "code",
   "execution_count": 29,
   "id": "94a42edb",
   "metadata": {},
   "outputs": [
    {
     "data": {
      "text/plain": [
       "Fuel       0\n",
       "Kms        0\n",
       "Gear       0\n",
       "Mileage    0\n",
       "Price      0\n",
       "Year       0\n",
       "Brand      0\n",
       "dtype: int64"
      ]
     },
     "execution_count": 29,
     "metadata": {},
     "output_type": "execute_result"
    }
   ],
   "source": [
    "# Checking null values in the dataset\n",
    "df.isnull().sum()"
   ]
  },
  {
   "cell_type": "code",
   "execution_count": 30,
   "id": "ecef4424",
   "metadata": {},
   "outputs": [
    {
     "data": {
      "image/png": "[encoded data removed]",
      "text/plain": [
       "<Figure size 432x288 with 2 Axes>"
      ]
     },
     "metadata": {
      "needs_background": "light"
     },
     "output_type": "display_data"
    }
   ],
   "source": [
    "# Visualizing null values in the dataset\n",
    "sns.heatmap(df.isnull())\n",
    "plt.title(\"Null Values in the dataset\")\n",
    "plt.show()"
   ]
  },
  {
   "cell_type": "code",
   "execution_count": 31,
   "id": "f77729db",
   "metadata": {},
   "outputs": [
    {
     "data": {
      "text/html": [
       "<div>\n",
       "<style scoped>\n",
       "    .dataframe tbody tr th:only-of-type {\n",
       "        vertical-align: middle;\n",
       "    }\n",
       "\n",
       "    .dataframe tbody tr th {\n",
       "        vertical-align: top;\n",
       "    }\n",
       "\n",
       "    .dataframe thead th {\n",
       "        text-align: right;\n",
       "    }\n",
       "</style>\n",
       "<table border=\"1\" class=\"dataframe\">\n",
       "  <thead>\n",
       "    <tr style=\"text-align: right;\">\n",
       "      <th></th>\n",
       "      <th>Kms</th>\n",
       "      <th>Mileage</th>\n",
       "      <th>Price</th>\n",
       "      <th>Year</th>\n",
       "    </tr>\n",
       "  </thead>\n",
       "  <tbody>\n",
       "    <tr>\n",
       "      <th>count</th>\n",
       "      <td>5.179000e+03</td>\n",
       "      <td>5179.000000</td>\n",
       "      <td>5179.000000</td>\n",
       "      <td>5179.000000</td>\n",
       "    </tr>\n",
       "    <tr>\n",
       "      <th>mean</th>\n",
       "      <td>5.286635e+04</td>\n",
       "      <td>17.697104</td>\n",
       "      <td>581.234601</td>\n",
       "      <td>2015.437922</td>\n",
       "    </tr>\n",
       "    <tr>\n",
       "      <th>std</th>\n",
       "      <td>1.069415e+05</td>\n",
       "      <td>5.279202</td>\n",
       "      <td>6535.660973</td>\n",
       "      <td>3.614239</td>\n",
       "    </tr>\n",
       "    <tr>\n",
       "      <th>min</th>\n",
       "      <td>4.000000e+02</td>\n",
       "      <td>0.000000</td>\n",
       "      <td>1.000000</td>\n",
       "      <td>1992.000000</td>\n",
       "    </tr>\n",
       "    <tr>\n",
       "      <th>25%</th>\n",
       "      <td>2.888950e+04</td>\n",
       "      <td>15.500000</td>\n",
       "      <td>4.500000</td>\n",
       "      <td>2013.000000</td>\n",
       "    </tr>\n",
       "    <tr>\n",
       "      <th>50%</th>\n",
       "      <td>4.792500e+04</td>\n",
       "      <td>18.000000</td>\n",
       "      <td>6.900000</td>\n",
       "      <td>2016.000000</td>\n",
       "    </tr>\n",
       "    <tr>\n",
       "      <th>75%</th>\n",
       "      <td>6.900000e+04</td>\n",
       "      <td>20.520000</td>\n",
       "      <td>12.250000</td>\n",
       "      <td>2018.000000</td>\n",
       "    </tr>\n",
       "    <tr>\n",
       "      <th>max</th>\n",
       "      <td>7.400000e+06</td>\n",
       "      <td>120.000000</td>\n",
       "      <td>99000.000000</td>\n",
       "      <td>2022.000000</td>\n",
       "    </tr>\n",
       "  </tbody>\n",
       "</table>\n",
       "</div>"
      ],
      "text/plain": [
       "                Kms      Mileage         Price         Year\n",
       "count  5.179000e+03  5179.000000   5179.000000  5179.000000\n",
       "mean   5.286635e+04    17.697104    581.234601  2015.437922\n",
       "std    1.069415e+05     5.279202   6535.660973     3.614239\n",
       "min    4.000000e+02     0.000000      1.000000  1992.000000\n",
       "25%    2.888950e+04    15.500000      4.500000  2013.000000\n",
       "50%    4.792500e+04    18.000000      6.900000  2016.000000\n",
       "75%    6.900000e+04    20.520000     12.250000  2018.000000\n",
       "max    7.400000e+06   120.000000  99000.000000  2022.000000"
      ]
     },
     "execution_count": 31,
     "metadata": {},
     "output_type": "execute_result"
    }
   ],
   "source": [
    "# Checking description of data in the dataset\n",
    "df.describe()"
   ]
  },
  {
   "cell_type": "code",
   "execution_count": 32,
   "id": "8ebea8f8",
   "metadata": {},
   "outputs": [
    {
     "data": {
      "text/html": [
       "<div>\n",
       "<style scoped>\n",
       "    .dataframe tbody tr th:only-of-type {\n",
       "        vertical-align: middle;\n",
       "    }\n",
       "\n",
       "    .dataframe tbody tr th {\n",
       "        vertical-align: top;\n",
       "    }\n",
       "\n",
       "    .dataframe thead th {\n",
       "        text-align: right;\n",
       "    }\n",
       "</style>\n",
       "<table border=\"1\" class=\"dataframe\">\n",
       "  <thead>\n",
       "    <tr style=\"text-align: right;\">\n",
       "      <th></th>\n",
       "      <th>Fuel</th>\n",
       "      <th>Kms</th>\n",
       "      <th>Gear</th>\n",
       "      <th>Mileage</th>\n",
       "      <th>Price</th>\n",
       "      <th>Year</th>\n",
       "      <th>Brand</th>\n",
       "    </tr>\n",
       "  </thead>\n",
       "  <tbody>\n",
       "  </tbody>\n",
       "</table>\n",
       "</div>"
      ],
      "text/plain": [
       "Empty DataFrame\n",
       "Columns: [Fuel, Kms, Gear, Mileage, Price, Year, Brand]\n",
       "Index: []"
      ]
     },
     "execution_count": 32,
     "metadata": {},
     "output_type": "execute_result"
    }
   ],
   "source": [
    "#Checking for empty observations in target column\n",
    "df.loc[df['Price'] == \" \"]"
   ]
  },
  {
   "cell_type": "markdown",
   "id": "a92a5c5c",
   "metadata": {},
   "source": [
    "No empty observations.\n",
    "\n",
    "### Data Visualization\n",
    "\n",
    "#### Univariate Analysis"
   ]
  },
  {
   "cell_type": "code",
   "execution_count": 33,
   "id": "8f970f1c",
   "metadata": {},
   "outputs": [
    {
     "data": {
      "image/png": "[encoded data removed]",
      "text/plain": [
       "<Figure size 1440x576 with 1 Axes>"
      ]
     },
     "metadata": {
      "needs_background": "light"
     },
     "output_type": "display_data"
    }
   ],
   "source": [
    "plt.figure(figsize=(20,8))\n",
    "sns.countplot(df[\"Brand\"])\n",
    "plt.title(\"Count of different Car Brands\")\n",
    "plt.xticks(rotation=90)\n",
    "plt.show()"
   ]
  },
  {
   "cell_type": "markdown",
   "id": "6657c2fe",
   "metadata": {},
   "source": [
    "Most of the car brands are Hyundai, Maruthi, Honda, Toyota. There are very few luxury brand used cars."
   ]
  },
  {
   "cell_type": "code",
   "execution_count": 35,
   "id": "6dce69aa",
   "metadata": {},
   "outputs": [
    {
     "data": {
      "image/png": "[encoded data removed]",
      "text/plain": [
       "<Figure size 576x360 with 1 Axes>"
      ]
     },
     "metadata": {
      "needs_background": "light"
     },
     "output_type": "display_data"
    }
   ],
   "source": [
    "plt.figure(figsize=(8,5))\n",
    "sns.countplot(df[\"Fuel\"],palette='Accent')\n",
    "plt.title(\"Count of different Fuels\")\n",
    "plt.show()"
   ]
  },
  {
   "cell_type": "markdown",
   "id": "a2c556bb",
   "metadata": {},
   "source": [
    "The major fuel type cars would be using petrol follwed by diesel. The least used cars would be lpg and electric vehicles."
   ]
  },
  {
   "cell_type": "code",
   "execution_count": 36,
   "id": "f37ded92",
   "metadata": {},
   "outputs": [
    {
     "name": "stdout",
     "output_type": "stream",
     "text": [
      "Manual       3213\n",
      "Automatic    1966\n",
      "Name: Gear, dtype: int64\n"
     ]
    },
    {
     "data": {
      "text/plain": [
       "<AxesSubplot:ylabel='Gear'>"
      ]
     },
     "execution_count": 36,
     "metadata": {},
     "output_type": "execute_result"
    },
    {
     "data": {
      "image/png": "[encoded data removed]",
      "text/plain": [
       "<Figure size 720x360 with 1 Axes>"
      ]
     },
     "metadata": {},
     "output_type": "display_data"
    }
   ],
   "source": [
    "plt.figure(figsize=(10,5))\n",
    "print(df['Gear'].value_counts())\n",
    "df['Gear'].value_counts().plot.pie(autopct='%1.1f%%')"
   ]
  },
  {
   "cell_type": "markdown",
   "id": "e37a5b05",
   "metadata": {},
   "source": [
    "Most of the Used cars are of manual Variant (62% ). The rest are Automatic (38%)."
   ]
  },
  {
   "cell_type": "code",
   "execution_count": 37,
   "id": "5580c6bc",
   "metadata": {},
   "outputs": [
    {
     "data": {
      "image/png": "[encoded data removed]",
      "text/plain": [
       "<Figure size 2880x720 with 1 Axes>"
      ]
     },
     "metadata": {
      "needs_background": "light"
     },
     "output_type": "display_data"
    }
   ],
   "source": [
    "plt.figure(figsize=[40,10])\n",
    "sns.countplot(df['Year'])\n",
    "plt.title(\"Car Manufactured Year\")\n",
    "plt.xticks(rotation=90)\n",
    "plt.show()"
   ]
  },
  {
   "cell_type": "markdown",
   "id": "2216a701",
   "metadata": {},
   "source": [
    "Most of the Used cars are manufactured in 2017 and 2018. Followed by 2016, 2015 & 2019."
   ]
  },
  {
   "cell_type": "code",
   "execution_count": 39,
   "id": "b99d9e3c",
   "metadata": {},
   "outputs": [
    {
     "data": {
      "image/png": "[encoded data removed]",
      "text/plain": [
       "<Figure size 720x576 with 1 Axes>"
      ]
     },
     "metadata": {
      "needs_background": "light"
     },
     "output_type": "display_data"
    }
   ],
   "source": [
    "plt.figure(figsize=(10,8))\n",
    "sns.distplot(df[\"Price\"],bins=10,color='green')\n",
    "plt.show()"
   ]
  },
  {
   "cell_type": "markdown",
   "id": "58ce1fae",
   "metadata": {},
   "source": [
    "The distribution of Price is normal but it is skewed to the right."
   ]
  },
  {
   "cell_type": "markdown",
   "id": "69f93829",
   "metadata": {},
   "source": [
    "### Bivariate Analysis"
   ]
  },
  {
   "cell_type": "code",
   "execution_count": 40,
   "id": "645830ea",
   "metadata": {},
   "outputs": [
    {
     "data": {
      "image/png": "[encoded data removed]",
      "text/plain": [
       "<Figure size 1440x504 with 1 Axes>"
      ]
     },
     "metadata": {
      "needs_background": "light"
     },
     "output_type": "display_data"
    }
   ],
   "source": [
    "plt.figure(figsize=(20,7))\n",
    "sns.barplot(x='Brand',y='Price',data=df,palette='twilight')\n",
    "plt.xticks(rotation=90)\n",
    "plt.show();\n"
   ]
  },
  {
   "cell_type": "markdown",
   "id": "2429d41a",
   "metadata": {},
   "source": [
    "Most of the used cars are of the Maruti. The Prices of Fiat, Porsche &  Chevrolet are high."
   ]
  },
  {
   "cell_type": "code",
   "execution_count": 41,
   "id": "cfaeb51e",
   "metadata": {},
   "outputs": [
    {
     "data": {
      "image/png": "[encoded data removed]",
      "text/plain": [
       "<Figure size 360x360 with 1 Axes>"
      ]
     },
     "metadata": {
      "needs_background": "light"
     },
     "output_type": "display_data"
    }
   ],
   "source": [
    "plt.figure(figsize=(5,5))\n",
    "sns.barplot(x='Fuel',y='Price',data=df,palette='bone')\n",
    "plt.show();"
   ]
  },
  {
   "cell_type": "markdown",
   "id": "d1e19047",
   "metadata": {},
   "source": [
    "Most of the cars use petrol as their fuel type, but the highest prices are those which use LPG as their fuel. Next comes petrol CNG follwed by Diesel are the lowest"
   ]
  },
  {
   "cell_type": "code",
   "execution_count": 42,
   "id": "77154e77",
   "metadata": {},
   "outputs": [
    {
     "data": {
      "image/png": "[encoded data removed]",
      "text/plain": [
       "<Figure size 288x288 with 1 Axes>"
      ]
     },
     "metadata": {
      "needs_background": "light"
     },
     "output_type": "display_data"
    }
   ],
   "source": [
    "plt.figure(figsize=(4,4))\n",
    "sns.barplot(x='Gear',y='Price',data=df,palette='winter')\n",
    "plt.show();"
   ]
  },
  {
   "cell_type": "markdown",
   "id": "707833e8",
   "metadata": {},
   "source": [
    "Most of the used cars are Manual, they are also the ones with the highest prices."
   ]
  },
  {
   "cell_type": "code",
   "execution_count": 49,
   "id": "9b7beb0c",
   "metadata": {},
   "outputs": [
    {
     "data": {
      "image/png": "[encoded data removed]",
      "text/plain": [
       "<Figure size 1440x1152 with 1 Axes>"
      ]
     },
     "metadata": {
      "needs_background": "light"
     },
     "output_type": "display_data"
    }
   ],
   "source": [
    "plt.figure(figsize=[20,16])\n",
    "plt.title('Comparision between KMS_driven and Brand')\n",
    "sns.scatterplot(df['Kms'],df['Brand'],hue=df['Price'],palette=\"magma\");"
   ]
  },
  {
   "cell_type": "code",
   "execution_count": 50,
   "id": "2193c000",
   "metadata": {},
   "outputs": [
    {
     "data": {
      "image/png": "[encoded data removed]",
      "text/plain": [
       "<Figure size 576x432 with 1 Axes>"
      ]
     },
     "metadata": {
      "needs_background": "light"
     },
     "output_type": "display_data"
    }
   ],
   "source": [
    "plt.figure(figsize=[8,6])\n",
    "plt.title('Comparision between KMS_driven and Model')\n",
    "sns.scatterplot(df['Kms'],df['Brand'],hue=df['Price'],palette=\"bone\");"
   ]
  },
  {
   "cell_type": "code",
   "execution_count": 54,
   "id": "2f423f8e",
   "metadata": {},
   "outputs": [
    {
     "data": {
      "image/png": "[encoded data removed]",
      "text/plain": [
       "<Figure size 576x432 with 1 Axes>"
      ]
     },
     "metadata": {
      "needs_background": "light"
     },
     "output_type": "display_data"
    }
   ],
   "source": [
    "plt.figure(figsize=[8,6])\n",
    "plt.title('Comparision between KMS_driven and Manuf_Year')\n",
    "sns.scatterplot(df['Kms'],df['Year'],hue=df['Price'],palette=\"cool\");"
   ]
  },
  {
   "cell_type": "code",
   "execution_count": 59,
   "id": "b979edbb",
   "metadata": {},
   "outputs": [
    {
     "data": {
      "image/png": "[encoded data removed]",
      "text/plain": [
       "<Figure size 3600x2160 with 1 Axes>"
      ]
     },
     "metadata": {
      "needs_background": "light"
     },
     "output_type": "display_data"
    }
   ],
   "source": [
    "plt.figure(figsize=[50,30])\n",
    "\n",
    "plt.subplot(2,2,1)\n",
    "plt.title('Comparision between KMS_driven and Manuf_Year',fontsize=12)\n",
    "sns.countplot(df['Kms'],hue=df['Year'],palette=\"summer\");"
   ]
  },
  {
   "cell_type": "code",
   "execution_count": 60,
   "id": "1451bfce",
   "metadata": {},
   "outputs": [
    {
     "data": {
      "image/png": "[encoded data removed]",
      "text/plain": [
       "<Figure size 607.875x540 with 12 Axes>"
      ]
     },
     "metadata": {
      "needs_background": "light"
     },
     "output_type": "display_data"
    }
   ],
   "source": [
    "sns.pairplot(df,hue=\"Price\",palette=\"Spectral\")\n",
    "plt.show()"
   ]
  },
  {
   "cell_type": "markdown",
   "id": "f56c4f5e",
   "metadata": {},
   "source": [
    "### Encoding the Data Frame"
   ]
  },
  {
   "cell_type": "code",
   "execution_count": 61,
   "id": "67ab101b",
   "metadata": {},
   "outputs": [
    {
     "data": {
      "text/plain": [
       "Index(['Fuel', 'Kms', 'Gear', 'Mileage', 'Price', 'Year', 'Brand'], dtype='object')"
      ]
     },
     "execution_count": 61,
     "metadata": {},
     "output_type": "execute_result"
    }
   ],
   "source": [
    "df.columns"
   ]
  },
  {
   "cell_type": "code",
   "execution_count": 62,
   "id": "5812ea44",
   "metadata": {},
   "outputs": [
    {
     "data": {
      "text/plain": [
       "Fuel        object\n",
       "Kms          int64\n",
       "Gear        object\n",
       "Mileage    float64\n",
       "Price      float64\n",
       "Year         int32\n",
       "Brand       object\n",
       "dtype: object"
      ]
     },
     "execution_count": 62,
     "metadata": {},
     "output_type": "execute_result"
    }
   ],
   "source": [
    "df.dtypes"
   ]
  },
  {
   "cell_type": "code",
   "execution_count": 63,
   "id": "b14be31b",
   "metadata": {},
   "outputs": [],
   "source": [
    "from sklearn.preprocessing import LabelEncoder\n",
    "le=LabelEncoder()"
   ]
  },
  {
   "cell_type": "code",
   "execution_count": 65,
   "id": "0426de1a",
   "metadata": {},
   "outputs": [],
   "source": [
    "df['Brand'] = le.fit_transform(df['Brand'])\n",
    "df['Kms'] = le.fit_transform(df['Kms'])\n",
    "df['Fuel'] = le.fit_transform(df['Fuel'])\n",
    "df['Gear'] = le.fit_transform(df['Gear'])"
   ]
  },
  {
   "cell_type": "code",
   "execution_count": 66,
   "id": "8ea505ab",
   "metadata": {},
   "outputs": [
    {
     "data": {
      "text/html": [
       "<div>\n",
       "<style scoped>\n",
       "    .dataframe tbody tr th:only-of-type {\n",
       "        vertical-align: middle;\n",
       "    }\n",
       "\n",
       "    .dataframe tbody tr th {\n",
       "        vertical-align: top;\n",
       "    }\n",
       "\n",
       "    .dataframe thead th {\n",
       "        text-align: right;\n",
       "    }\n",
       "</style>\n",
       "<table border=\"1\" class=\"dataframe\">\n",
       "  <thead>\n",
       "    <tr style=\"text-align: right;\">\n",
       "      <th></th>\n",
       "      <th>Fuel</th>\n",
       "      <th>Kms</th>\n",
       "      <th>Gear</th>\n",
       "      <th>Mileage</th>\n",
       "      <th>Price</th>\n",
       "      <th>Year</th>\n",
       "      <th>Brand</th>\n",
       "    </tr>\n",
       "  </thead>\n",
       "  <tbody>\n",
       "    <tr>\n",
       "      <th>0</th>\n",
       "      <td>4</td>\n",
       "      <td>1192</td>\n",
       "      <td>0</td>\n",
       "      <td>18.19</td>\n",
       "      <td>7.58</td>\n",
       "      <td>2017</td>\n",
       "      <td>28</td>\n",
       "    </tr>\n",
       "    <tr>\n",
       "      <th>1</th>\n",
       "      <td>4</td>\n",
       "      <td>2080</td>\n",
       "      <td>1</td>\n",
       "      <td>17.01</td>\n",
       "      <td>5.88</td>\n",
       "      <td>2015</td>\n",
       "      <td>9</td>\n",
       "    </tr>\n",
       "    <tr>\n",
       "      <th>2</th>\n",
       "      <td>4</td>\n",
       "      <td>1384</td>\n",
       "      <td>0</td>\n",
       "      <td>18.19</td>\n",
       "      <td>7.53</td>\n",
       "      <td>2017</td>\n",
       "      <td>28</td>\n",
       "    </tr>\n",
       "    <tr>\n",
       "      <th>3</th>\n",
       "      <td>4</td>\n",
       "      <td>804</td>\n",
       "      <td>0</td>\n",
       "      <td>16.00</td>\n",
       "      <td>16.78</td>\n",
       "      <td>2019</td>\n",
       "      <td>12</td>\n",
       "    </tr>\n",
       "    <tr>\n",
       "      <th>4</th>\n",
       "      <td>4</td>\n",
       "      <td>1686</td>\n",
       "      <td>0</td>\n",
       "      <td>18.90</td>\n",
       "      <td>5.63</td>\n",
       "      <td>2016</td>\n",
       "      <td>9</td>\n",
       "    </tr>\n",
       "    <tr>\n",
       "      <th>...</th>\n",
       "      <td>...</td>\n",
       "      <td>...</td>\n",
       "      <td>...</td>\n",
       "      <td>...</td>\n",
       "      <td>...</td>\n",
       "      <td>...</td>\n",
       "      <td>...</td>\n",
       "    </tr>\n",
       "    <tr>\n",
       "      <th>5174</th>\n",
       "      <td>4</td>\n",
       "      <td>2455</td>\n",
       "      <td>0</td>\n",
       "      <td>10.54</td>\n",
       "      <td>1.23</td>\n",
       "      <td>2020</td>\n",
       "      <td>1</td>\n",
       "    </tr>\n",
       "    <tr>\n",
       "      <th>5175</th>\n",
       "      <td>4</td>\n",
       "      <td>154</td>\n",
       "      <td>0</td>\n",
       "      <td>12.10</td>\n",
       "      <td>61.95</td>\n",
       "      <td>2021</td>\n",
       "      <td>12</td>\n",
       "    </tr>\n",
       "    <tr>\n",
       "      <th>5176</th>\n",
       "      <td>4</td>\n",
       "      <td>2173</td>\n",
       "      <td>1</td>\n",
       "      <td>21.10</td>\n",
       "      <td>2.72</td>\n",
       "      <td>2017</td>\n",
       "      <td>9</td>\n",
       "    </tr>\n",
       "    <tr>\n",
       "      <th>5177</th>\n",
       "      <td>4</td>\n",
       "      <td>2361</td>\n",
       "      <td>1</td>\n",
       "      <td>19.81</td>\n",
       "      <td>1.80</td>\n",
       "      <td>2011</td>\n",
       "      <td>9</td>\n",
       "    </tr>\n",
       "    <tr>\n",
       "      <th>5178</th>\n",
       "      <td>4</td>\n",
       "      <td>13</td>\n",
       "      <td>0</td>\n",
       "      <td>0.00</td>\n",
       "      <td>79.00</td>\n",
       "      <td>2021</td>\n",
       "      <td>18</td>\n",
       "    </tr>\n",
       "  </tbody>\n",
       "</table>\n",
       "<p>5179 rows × 7 columns</p>\n",
       "</div>"
      ],
      "text/plain": [
       "      Fuel   Kms  Gear  Mileage  Price  Year  Brand\n",
       "0        4  1192     0    18.19   7.58  2017     28\n",
       "1        4  2080     1    17.01   5.88  2015      9\n",
       "2        4  1384     0    18.19   7.53  2017     28\n",
       "3        4   804     0    16.00  16.78  2019     12\n",
       "4        4  1686     0    18.90   5.63  2016      9\n",
       "...    ...   ...   ...      ...    ...   ...    ...\n",
       "5174     4  2455     0    10.54   1.23  2020      1\n",
       "5175     4   154     0    12.10  61.95  2021     12\n",
       "5176     4  2173     1    21.10   2.72  2017      9\n",
       "5177     4  2361     1    19.81   1.80  2011      9\n",
       "5178     4    13     0     0.00  79.00  2021     18\n",
       "\n",
       "[5179 rows x 7 columns]"
      ]
     },
     "execution_count": 66,
     "metadata": {},
     "output_type": "execute_result"
    }
   ],
   "source": [
    "df"
   ]
  },
  {
   "cell_type": "markdown",
   "id": "4ab6c990",
   "metadata": {},
   "source": [
    "### Outliers"
   ]
  },
  {
   "cell_type": "code",
   "execution_count": 67,
   "id": "f7423c40",
   "metadata": {},
   "outputs": [
    {
     "data": {
      "image/png": "[encoded data removed]",
      "text/plain": [
       "<Figure size 432x288 with 1 Axes>"
      ]
     },
     "metadata": {
      "needs_background": "light"
     },
     "output_type": "display_data"
    },
    {
     "data": {
      "image/png": "[encoded data removed]",
      "text/plain": [
       "<Figure size 432x288 with 1 Axes>"
      ]
     },
     "metadata": {
      "needs_background": "light"
     },
     "output_type": "display_data"
    },
    {
     "data": {
      "image/png": "[encoded data removed]",
      "text/plain": [
       "<Figure size 432x288 with 1 Axes>"
      ]
     },
     "metadata": {
      "needs_background": "light"
     },
     "output_type": "display_data"
    },
    {
     "data": {
      "image/png": "[encoded data removed]",
      "text/plain": [
       "<Figure size 432x288 with 1 Axes>"
      ]
     },
     "metadata": {
      "needs_background": "light"
     },
     "output_type": "display_data"
    },
    {
     "data": {
      "image/png": "[encoded data removed]",
      "text/plain": [
       "<Figure size 432x288 with 1 Axes>"
      ]
     },
     "metadata": {
      "needs_background": "light"
     },
     "output_type": "display_data"
    },
    {
     "data": {
      "image/png": "[encoded data removed]",
      "text/plain": [
       "<Figure size 432x288 with 1 Axes>"
      ]
     },
     "metadata": {
      "needs_background": "light"
     },
     "output_type": "display_data"
    },
    {
     "data": {
      "image/png": "[encoded data removed]",
      "text/plain": [
       "<Figure size 432x288 with 1 Axes>"
      ]
     },
     "metadata": {
      "needs_background": "light"
     },
     "output_type": "display_data"
    }
   ],
   "source": [
    "for i in df.columns:\n",
    "    sns.boxplot(df[i])\n",
    "    plt.show()"
   ]
  },
  {
   "cell_type": "markdown",
   "id": "5ee3f1e9",
   "metadata": {},
   "source": [
    "### Removing Outliers\n",
    "\n",
    "We shall remove the outliers present in the dataset using Z-Score Method."
   ]
  },
  {
   "cell_type": "code",
   "execution_count": 68,
   "id": "01604dc2",
   "metadata": {},
   "outputs": [],
   "source": [
    "df_outliers=df[[\"Brand\", \"Gear\", \"Year\"]]"
   ]
  },
  {
   "cell_type": "code",
   "execution_count": 70,
   "id": "b4539af6",
   "metadata": {},
   "outputs": [
    {
     "data": {
      "text/html": [
       "<div>\n",
       "<style scoped>\n",
       "    .dataframe tbody tr th:only-of-type {\n",
       "        vertical-align: middle;\n",
       "    }\n",
       "\n",
       "    .dataframe tbody tr th {\n",
       "        vertical-align: top;\n",
       "    }\n",
       "\n",
       "    .dataframe thead th {\n",
       "        text-align: right;\n",
       "    }\n",
       "</style>\n",
       "<table border=\"1\" class=\"dataframe\">\n",
       "  <thead>\n",
       "    <tr style=\"text-align: right;\">\n",
       "      <th></th>\n",
       "      <th>Fuel</th>\n",
       "      <th>Kms</th>\n",
       "      <th>Gear</th>\n",
       "      <th>Mileage</th>\n",
       "      <th>Price</th>\n",
       "      <th>Year</th>\n",
       "      <th>Brand</th>\n",
       "    </tr>\n",
       "  </thead>\n",
       "  <tbody>\n",
       "    <tr>\n",
       "      <th>0</th>\n",
       "      <td>4</td>\n",
       "      <td>1192</td>\n",
       "      <td>0</td>\n",
       "      <td>18.19</td>\n",
       "      <td>7.58</td>\n",
       "      <td>2017</td>\n",
       "      <td>28</td>\n",
       "    </tr>\n",
       "    <tr>\n",
       "      <th>1</th>\n",
       "      <td>4</td>\n",
       "      <td>2080</td>\n",
       "      <td>1</td>\n",
       "      <td>17.01</td>\n",
       "      <td>5.88</td>\n",
       "      <td>2015</td>\n",
       "      <td>9</td>\n",
       "    </tr>\n",
       "    <tr>\n",
       "      <th>2</th>\n",
       "      <td>4</td>\n",
       "      <td>1384</td>\n",
       "      <td>0</td>\n",
       "      <td>18.19</td>\n",
       "      <td>7.53</td>\n",
       "      <td>2017</td>\n",
       "      <td>28</td>\n",
       "    </tr>\n",
       "    <tr>\n",
       "      <th>3</th>\n",
       "      <td>4</td>\n",
       "      <td>804</td>\n",
       "      <td>0</td>\n",
       "      <td>16.00</td>\n",
       "      <td>16.78</td>\n",
       "      <td>2019</td>\n",
       "      <td>12</td>\n",
       "    </tr>\n",
       "    <tr>\n",
       "      <th>4</th>\n",
       "      <td>4</td>\n",
       "      <td>1686</td>\n",
       "      <td>0</td>\n",
       "      <td>18.90</td>\n",
       "      <td>5.63</td>\n",
       "      <td>2016</td>\n",
       "      <td>9</td>\n",
       "    </tr>\n",
       "    <tr>\n",
       "      <th>...</th>\n",
       "      <td>...</td>\n",
       "      <td>...</td>\n",
       "      <td>...</td>\n",
       "      <td>...</td>\n",
       "      <td>...</td>\n",
       "      <td>...</td>\n",
       "      <td>...</td>\n",
       "    </tr>\n",
       "    <tr>\n",
       "      <th>5174</th>\n",
       "      <td>4</td>\n",
       "      <td>2455</td>\n",
       "      <td>0</td>\n",
       "      <td>10.54</td>\n",
       "      <td>1.23</td>\n",
       "      <td>2020</td>\n",
       "      <td>1</td>\n",
       "    </tr>\n",
       "    <tr>\n",
       "      <th>5175</th>\n",
       "      <td>4</td>\n",
       "      <td>154</td>\n",
       "      <td>0</td>\n",
       "      <td>12.10</td>\n",
       "      <td>61.95</td>\n",
       "      <td>2021</td>\n",
       "      <td>12</td>\n",
       "    </tr>\n",
       "    <tr>\n",
       "      <th>5176</th>\n",
       "      <td>4</td>\n",
       "      <td>2173</td>\n",
       "      <td>1</td>\n",
       "      <td>21.10</td>\n",
       "      <td>2.72</td>\n",
       "      <td>2017</td>\n",
       "      <td>9</td>\n",
       "    </tr>\n",
       "    <tr>\n",
       "      <th>5177</th>\n",
       "      <td>4</td>\n",
       "      <td>2361</td>\n",
       "      <td>1</td>\n",
       "      <td>19.81</td>\n",
       "      <td>1.80</td>\n",
       "      <td>2011</td>\n",
       "      <td>9</td>\n",
       "    </tr>\n",
       "    <tr>\n",
       "      <th>5178</th>\n",
       "      <td>4</td>\n",
       "      <td>13</td>\n",
       "      <td>0</td>\n",
       "      <td>0.00</td>\n",
       "      <td>79.00</td>\n",
       "      <td>2021</td>\n",
       "      <td>18</td>\n",
       "    </tr>\n",
       "  </tbody>\n",
       "</table>\n",
       "<p>5138 rows × 7 columns</p>\n",
       "</div>"
      ],
      "text/plain": [
       "      Fuel   Kms  Gear  Mileage  Price  Year  Brand\n",
       "0        4  1192     0    18.19   7.58  2017     28\n",
       "1        4  2080     1    17.01   5.88  2015      9\n",
       "2        4  1384     0    18.19   7.53  2017     28\n",
       "3        4   804     0    16.00  16.78  2019     12\n",
       "4        4  1686     0    18.90   5.63  2016      9\n",
       "...    ...   ...   ...      ...    ...   ...    ...\n",
       "5174     4  2455     0    10.54   1.23  2020      1\n",
       "5175     4   154     0    12.10  61.95  2021     12\n",
       "5176     4  2173     1    21.10   2.72  2017      9\n",
       "5177     4  2361     1    19.81   1.80  2011      9\n",
       "5178     4    13     0     0.00  79.00  2021     18\n",
       "\n",
       "[5138 rows x 7 columns]"
      ]
     },
     "execution_count": 70,
     "metadata": {},
     "output_type": "execute_result"
    }
   ],
   "source": [
    "from scipy.stats import zscore\n",
    "\n",
    "z=np.abs(zscore(df_outliers))\n",
    "df_usedcars=df[(z<3).all(axis=1)]\n",
    "df_usedcars"
   ]
  },
  {
   "cell_type": "code",
   "execution_count": 71,
   "id": "9bdf9d4c",
   "metadata": {},
   "outputs": [
    {
     "data": {
      "text/plain": [
       "(5138, 7)"
      ]
     },
     "execution_count": 71,
     "metadata": {},
     "output_type": "execute_result"
    }
   ],
   "source": [
    "df_usedcars.shape"
   ]
  },
  {
   "cell_type": "code",
   "execution_count": 72,
   "id": "6d286e27",
   "metadata": {},
   "outputs": [
    {
     "data": {
      "text/plain": [
       "(5179, 7)"
      ]
     },
     "execution_count": 72,
     "metadata": {},
     "output_type": "execute_result"
    }
   ],
   "source": [
    "df.shape"
   ]
  },
  {
   "cell_type": "code",
   "execution_count": 73,
   "id": "970ada10",
   "metadata": {},
   "outputs": [
    {
     "data": {
      "text/plain": [
       "0.7916586213554739"
      ]
     },
     "execution_count": 73,
     "metadata": {},
     "output_type": "execute_result"
    }
   ],
   "source": [
    "Data_loss=((5179-5138)/5179)*100\n",
    "Data_loss"
   ]
  },
  {
   "cell_type": "markdown",
   "id": "2997f69b",
   "metadata": {},
   "source": [
    "### Skewness"
   ]
  },
  {
   "cell_type": "code",
   "execution_count": 74,
   "id": "e4beda11",
   "metadata": {},
   "outputs": [
    {
     "data": {
      "text/plain": [
       "Fuel       -0.556495\n",
       "Kms        -0.114382\n",
       "Gear       -0.483076\n",
       "Mileage     0.533038\n",
       "Price      15.511571\n",
       "Year       -0.582288\n",
       "Brand       0.173402\n",
       "dtype: float64"
      ]
     },
     "execution_count": 74,
     "metadata": {},
     "output_type": "execute_result"
    }
   ],
   "source": [
    "df_usedcars.skew()"
   ]
  },
  {
   "cell_type": "code",
   "execution_count": 75,
   "id": "32efef52",
   "metadata": {},
   "outputs": [],
   "source": [
    "df_skew=['Fuel','Gear']"
   ]
  },
  {
   "cell_type": "code",
   "execution_count": 76,
   "id": "a103871f",
   "metadata": {},
   "outputs": [],
   "source": [
    "from sklearn.preprocessing import PowerTransformer\n",
    "scaler = PowerTransformer(method='yeo-johnson')"
   ]
  },
  {
   "cell_type": "code",
   "execution_count": 77,
   "id": "60865224",
   "metadata": {},
   "outputs": [],
   "source": [
    "df_usedcars[df_skew] = scaler.fit_transform(df_usedcars[df_skew].values)"
   ]
  },
  {
   "cell_type": "code",
   "execution_count": 78,
   "id": "c7e41c21",
   "metadata": {},
   "outputs": [
    {
     "data": {
      "text/plain": [
       "Fuel   -0.527896\n",
       "Gear   -0.483076\n",
       "dtype: float64"
      ]
     },
     "execution_count": 78,
     "metadata": {},
     "output_type": "execute_result"
    }
   ],
   "source": [
    "df_usedcars[df_skew].skew()"
   ]
  },
  {
   "cell_type": "code",
   "execution_count": 79,
   "id": "f5604c9a",
   "metadata": {},
   "outputs": [
    {
     "data": {
      "text/html": [
       "<div>\n",
       "<style scoped>\n",
       "    .dataframe tbody tr th:only-of-type {\n",
       "        vertical-align: middle;\n",
       "    }\n",
       "\n",
       "    .dataframe tbody tr th {\n",
       "        vertical-align: top;\n",
       "    }\n",
       "\n",
       "    .dataframe thead th {\n",
       "        text-align: right;\n",
       "    }\n",
       "</style>\n",
       "<table border=\"1\" class=\"dataframe\">\n",
       "  <thead>\n",
       "    <tr style=\"text-align: right;\">\n",
       "      <th></th>\n",
       "      <th>Fuel</th>\n",
       "      <th>Kms</th>\n",
       "      <th>Gear</th>\n",
       "      <th>Mileage</th>\n",
       "      <th>Price</th>\n",
       "      <th>Year</th>\n",
       "      <th>Brand</th>\n",
       "    </tr>\n",
       "  </thead>\n",
       "  <tbody>\n",
       "    <tr>\n",
       "      <th>Fuel</th>\n",
       "      <td>1.000000</td>\n",
       "      <td>-0.298826</td>\n",
       "      <td>0.114400</td>\n",
       "      <td>-0.051875</td>\n",
       "      <td>0.032181</td>\n",
       "      <td>0.016224</td>\n",
       "      <td>-0.076683</td>\n",
       "    </tr>\n",
       "    <tr>\n",
       "      <th>Kms</th>\n",
       "      <td>-0.298826</td>\n",
       "      <td>1.000000</td>\n",
       "      <td>0.118185</td>\n",
       "      <td>0.002119</td>\n",
       "      <td>0.032223</td>\n",
       "      <td>-0.607254</td>\n",
       "      <td>0.040020</td>\n",
       "    </tr>\n",
       "    <tr>\n",
       "      <th>Gear</th>\n",
       "      <td>0.114400</td>\n",
       "      <td>0.118185</td>\n",
       "      <td>1.000000</td>\n",
       "      <td>0.239223</td>\n",
       "      <td>0.047096</td>\n",
       "      <td>-0.163512</td>\n",
       "      <td>0.079059</td>\n",
       "    </tr>\n",
       "    <tr>\n",
       "      <th>Mileage</th>\n",
       "      <td>-0.051875</td>\n",
       "      <td>0.002119</td>\n",
       "      <td>0.239223</td>\n",
       "      <td>1.000000</td>\n",
       "      <td>-0.035911</td>\n",
       "      <td>0.041332</td>\n",
       "      <td>0.012422</td>\n",
       "    </tr>\n",
       "    <tr>\n",
       "      <th>Price</th>\n",
       "      <td>0.032181</td>\n",
       "      <td>0.032223</td>\n",
       "      <td>0.047096</td>\n",
       "      <td>-0.035911</td>\n",
       "      <td>1.000000</td>\n",
       "      <td>-0.164758</td>\n",
       "      <td>0.013843</td>\n",
       "    </tr>\n",
       "    <tr>\n",
       "      <th>Year</th>\n",
       "      <td>0.016224</td>\n",
       "      <td>-0.607254</td>\n",
       "      <td>-0.163512</td>\n",
       "      <td>0.041332</td>\n",
       "      <td>-0.164758</td>\n",
       "      <td>1.000000</td>\n",
       "      <td>0.051491</td>\n",
       "    </tr>\n",
       "    <tr>\n",
       "      <th>Brand</th>\n",
       "      <td>-0.076683</td>\n",
       "      <td>0.040020</td>\n",
       "      <td>0.079059</td>\n",
       "      <td>0.012422</td>\n",
       "      <td>0.013843</td>\n",
       "      <td>0.051491</td>\n",
       "      <td>1.000000</td>\n",
       "    </tr>\n",
       "  </tbody>\n",
       "</table>\n",
       "</div>"
      ],
      "text/plain": [
       "             Fuel       Kms      Gear   Mileage     Price      Year     Brand\n",
       "Fuel     1.000000 -0.298826  0.114400 -0.051875  0.032181  0.016224 -0.076683\n",
       "Kms     -0.298826  1.000000  0.118185  0.002119  0.032223 -0.607254  0.040020\n",
       "Gear     0.114400  0.118185  1.000000  0.239223  0.047096 -0.163512  0.079059\n",
       "Mileage -0.051875  0.002119  0.239223  1.000000 -0.035911  0.041332  0.012422\n",
       "Price    0.032181  0.032223  0.047096 -0.035911  1.000000 -0.164758  0.013843\n",
       "Year     0.016224 -0.607254 -0.163512  0.041332 -0.164758  1.000000  0.051491\n",
       "Brand   -0.076683  0.040020  0.079059  0.012422  0.013843  0.051491  1.000000"
      ]
     },
     "execution_count": 79,
     "metadata": {},
     "output_type": "execute_result"
    }
   ],
   "source": [
    "# Correlation of dataset\n",
    "df_usedcars.corr()"
   ]
  },
  {
   "cell_type": "code",
   "execution_count": 80,
   "id": "4f1c01eb",
   "metadata": {},
   "outputs": [
    {
     "data": {
      "image/png": "[encoded data removed]",
      "text/plain": [
       "<Figure size 1080x1080 with 2 Axes>"
      ]
     },
     "metadata": {
      "needs_background": "light"
     },
     "output_type": "display_data"
    }
   ],
   "source": [
    "# Visualizing the correlation matrix by plotting heatmap for train dataset.\n",
    "plt.figure(figsize=(15,15))\n",
    "sns.heatmap(df_usedcars.corr(),linewidths=.1,vmin=-1, vmax=1, fmt='.1g', annot = True, linecolor=\"black\",annot_kws={'size':10},cmap=\"YlGnBu\")\n",
    "plt.yticks(rotation=0);"
   ]
  },
  {
   "cell_type": "markdown",
   "id": "b7b32269",
   "metadata": {},
   "source": [
    "Km and year negatively correlated with respect to target variable"
   ]
  },
  {
   "cell_type": "code",
   "execution_count": 81,
   "id": "a474c582",
   "metadata": {},
   "outputs": [
    {
     "data": {
      "image/png": "[encoded data removed]",
      "text/plain": [
       "<Figure size 1440x576 with 1 Axes>"
      ]
     },
     "metadata": {
      "needs_background": "light"
     },
     "output_type": "display_data"
    }
   ],
   "source": [
    "plt.figure(figsize=(20,8))\n",
    "df_usedcars.corr()['Price'].sort_values(ascending=False).drop(['Price']).plot(kind='bar',color='g')\n",
    "plt.xlabel('Features',fontsize=14)\n",
    "plt.ylabel('Column with target names',fontsize=14)\n",
    "plt.title('Correlation',fontsize=18)\n",
    "plt.show()"
   ]
  },
  {
   "cell_type": "markdown",
   "id": "fce2f41c",
   "metadata": {},
   "source": [
    "### Regression Model Building"
   ]
  },
  {
   "cell_type": "code",
   "execution_count": 82,
   "id": "562f8c00",
   "metadata": {},
   "outputs": [],
   "source": [
    "x = df_usedcars.drop(\"Price\",axis=1)\n",
    "y = df_usedcars[\"Price\"]"
   ]
  },
  {
   "cell_type": "code",
   "execution_count": 83,
   "id": "afc36406",
   "metadata": {},
   "outputs": [
    {
     "data": {
      "text/plain": [
       "(5138, 6)"
      ]
     },
     "execution_count": 83,
     "metadata": {},
     "output_type": "execute_result"
    }
   ],
   "source": [
    "x.shape"
   ]
  },
  {
   "cell_type": "code",
   "execution_count": 84,
   "id": "9b319a60",
   "metadata": {},
   "outputs": [
    {
     "data": {
      "text/plain": [
       "(5138,)"
      ]
     },
     "execution_count": 84,
     "metadata": {},
     "output_type": "execute_result"
    }
   ],
   "source": [
    "y.shape"
   ]
  },
  {
   "cell_type": "markdown",
   "id": "04183010",
   "metadata": {},
   "source": [
    "### Scaling"
   ]
  },
  {
   "cell_type": "code",
   "execution_count": 85,
   "id": "cd124b4a",
   "metadata": {},
   "outputs": [
    {
     "data": {
      "text/html": [
       "<div>\n",
       "<style scoped>\n",
       "    .dataframe tbody tr th:only-of-type {\n",
       "        vertical-align: middle;\n",
       "    }\n",
       "\n",
       "    .dataframe tbody tr th {\n",
       "        vertical-align: top;\n",
       "    }\n",
       "\n",
       "    .dataframe thead th {\n",
       "        text-align: right;\n",
       "    }\n",
       "</style>\n",
       "<table border=\"1\" class=\"dataframe\">\n",
       "  <thead>\n",
       "    <tr style=\"text-align: right;\">\n",
       "      <th></th>\n",
       "      <th>Fuel</th>\n",
       "      <th>Kms</th>\n",
       "      <th>Gear</th>\n",
       "      <th>Mileage</th>\n",
       "      <th>Year</th>\n",
       "      <th>Brand</th>\n",
       "    </tr>\n",
       "  </thead>\n",
       "  <tbody>\n",
       "    <tr>\n",
       "      <th>0</th>\n",
       "      <td>0.774516</td>\n",
       "      <td>-0.137648</td>\n",
       "      <td>-1.270208</td>\n",
       "      <td>0.088695</td>\n",
       "      <td>0.425422</td>\n",
       "      <td>1.807111</td>\n",
       "    </tr>\n",
       "    <tr>\n",
       "      <th>1</th>\n",
       "      <td>0.774516</td>\n",
       "      <td>1.140656</td>\n",
       "      <td>0.787273</td>\n",
       "      <td>-0.135759</td>\n",
       "      <td>-0.158553</td>\n",
       "      <td>-0.727716</td>\n",
       "    </tr>\n",
       "    <tr>\n",
       "      <th>2</th>\n",
       "      <td>0.774516</td>\n",
       "      <td>0.138742</td>\n",
       "      <td>-1.270208</td>\n",
       "      <td>0.088695</td>\n",
       "      <td>0.425422</td>\n",
       "      <td>1.807111</td>\n",
       "    </tr>\n",
       "    <tr>\n",
       "      <th>3</th>\n",
       "      <td>0.774516</td>\n",
       "      <td>-0.696186</td>\n",
       "      <td>-1.270208</td>\n",
       "      <td>-0.327876</td>\n",
       "      <td>1.009398</td>\n",
       "      <td>-0.327480</td>\n",
       "    </tr>\n",
       "    <tr>\n",
       "      <th>4</th>\n",
       "      <td>0.774516</td>\n",
       "      <td>0.573481</td>\n",
       "      <td>-1.270208</td>\n",
       "      <td>0.223748</td>\n",
       "      <td>0.133435</td>\n",
       "      <td>-0.727716</td>\n",
       "    </tr>\n",
       "    <tr>\n",
       "      <th>...</th>\n",
       "      <td>...</td>\n",
       "      <td>...</td>\n",
       "      <td>...</td>\n",
       "      <td>...</td>\n",
       "      <td>...</td>\n",
       "      <td>...</td>\n",
       "    </tr>\n",
       "    <tr>\n",
       "      <th>5133</th>\n",
       "      <td>0.774516</td>\n",
       "      <td>1.680481</td>\n",
       "      <td>-1.270208</td>\n",
       "      <td>-1.366450</td>\n",
       "      <td>1.301385</td>\n",
       "      <td>-1.795011</td>\n",
       "    </tr>\n",
       "    <tr>\n",
       "      <th>5134</th>\n",
       "      <td>0.774516</td>\n",
       "      <td>-1.631881</td>\n",
       "      <td>-1.270208</td>\n",
       "      <td>-1.069715</td>\n",
       "      <td>1.593373</td>\n",
       "      <td>-0.327480</td>\n",
       "    </tr>\n",
       "    <tr>\n",
       "      <th>5135</th>\n",
       "      <td>0.774516</td>\n",
       "      <td>1.274533</td>\n",
       "      <td>0.787273</td>\n",
       "      <td>0.642221</td>\n",
       "      <td>0.425422</td>\n",
       "      <td>-0.727716</td>\n",
       "    </tr>\n",
       "    <tr>\n",
       "      <th>5136</th>\n",
       "      <td>0.774516</td>\n",
       "      <td>1.545165</td>\n",
       "      <td>0.787273</td>\n",
       "      <td>0.396844</td>\n",
       "      <td>-1.326504</td>\n",
       "      <td>-0.727716</td>\n",
       "    </tr>\n",
       "    <tr>\n",
       "      <th>5137</th>\n",
       "      <td>0.774516</td>\n",
       "      <td>-1.834855</td>\n",
       "      <td>-1.270208</td>\n",
       "      <td>-3.371318</td>\n",
       "      <td>1.593373</td>\n",
       "      <td>0.472992</td>\n",
       "    </tr>\n",
       "  </tbody>\n",
       "</table>\n",
       "<p>5138 rows × 6 columns</p>\n",
       "</div>"
      ],
      "text/plain": [
       "          Fuel       Kms      Gear   Mileage      Year     Brand\n",
       "0     0.774516 -0.137648 -1.270208  0.088695  0.425422  1.807111\n",
       "1     0.774516  1.140656  0.787273 -0.135759 -0.158553 -0.727716\n",
       "2     0.774516  0.138742 -1.270208  0.088695  0.425422  1.807111\n",
       "3     0.774516 -0.696186 -1.270208 -0.327876  1.009398 -0.327480\n",
       "4     0.774516  0.573481 -1.270208  0.223748  0.133435 -0.727716\n",
       "...        ...       ...       ...       ...       ...       ...\n",
       "5133  0.774516  1.680481 -1.270208 -1.366450  1.301385 -1.795011\n",
       "5134  0.774516 -1.631881 -1.270208 -1.069715  1.593373 -0.327480\n",
       "5135  0.774516  1.274533  0.787273  0.642221  0.425422 -0.727716\n",
       "5136  0.774516  1.545165  0.787273  0.396844 -1.326504 -0.727716\n",
       "5137  0.774516 -1.834855 -1.270208 -3.371318  1.593373  0.472992\n",
       "\n",
       "[5138 rows x 6 columns]"
      ]
     },
     "execution_count": 85,
     "metadata": {},
     "output_type": "execute_result"
    }
   ],
   "source": [
    "from sklearn.preprocessing import StandardScaler\n",
    "\n",
    "scaler = StandardScaler()\n",
    "x = pd.DataFrame(scaler.fit_transform(x), columns=x.columns)\n",
    "x"
   ]
  },
  {
   "cell_type": "markdown",
   "id": "500816ad",
   "metadata": {},
   "source": [
    "### VIF"
   ]
  },
  {
   "cell_type": "code",
   "execution_count": 86,
   "id": "ca8df3be",
   "metadata": {},
   "outputs": [
    {
     "data": {
      "text/html": [
       "<div>\n",
       "<style scoped>\n",
       "    .dataframe tbody tr th:only-of-type {\n",
       "        vertical-align: middle;\n",
       "    }\n",
       "\n",
       "    .dataframe tbody tr th {\n",
       "        vertical-align: top;\n",
       "    }\n",
       "\n",
       "    .dataframe thead th {\n",
       "        text-align: right;\n",
       "    }\n",
       "</style>\n",
       "<table border=\"1\" class=\"dataframe\">\n",
       "  <thead>\n",
       "    <tr style=\"text-align: right;\">\n",
       "      <th></th>\n",
       "      <th>VIF values</th>\n",
       "      <th>Features</th>\n",
       "    </tr>\n",
       "  </thead>\n",
       "  <tbody>\n",
       "    <tr>\n",
       "      <th>0</th>\n",
       "      <td>1.187103</td>\n",
       "      <td>Fuel</td>\n",
       "    </tr>\n",
       "    <tr>\n",
       "      <th>1</th>\n",
       "      <td>1.842020</td>\n",
       "      <td>Kms</td>\n",
       "    </tr>\n",
       "    <tr>\n",
       "      <th>2</th>\n",
       "      <td>1.132648</td>\n",
       "      <td>Gear</td>\n",
       "    </tr>\n",
       "    <tr>\n",
       "      <th>3</th>\n",
       "      <td>1.076538</td>\n",
       "      <td>Mileage</td>\n",
       "    </tr>\n",
       "    <tr>\n",
       "      <th>4</th>\n",
       "      <td>1.697167</td>\n",
       "      <td>Year</td>\n",
       "    </tr>\n",
       "    <tr>\n",
       "      <th>5</th>\n",
       "      <td>1.022758</td>\n",
       "      <td>Brand</td>\n",
       "    </tr>\n",
       "  </tbody>\n",
       "</table>\n",
       "</div>"
      ],
      "text/plain": [
       "   VIF values Features\n",
       "0    1.187103     Fuel\n",
       "1    1.842020      Kms\n",
       "2    1.132648     Gear\n",
       "3    1.076538  Mileage\n",
       "4    1.697167     Year\n",
       "5    1.022758    Brand"
      ]
     },
     "execution_count": 86,
     "metadata": {},
     "output_type": "execute_result"
    }
   ],
   "source": [
    "from statsmodels.stats.outliers_influence import variance_inflation_factor\n",
    "vif = pd.DataFrame()\n",
    "vif[\"VIF values\"] = [variance_inflation_factor(x.values,i) for i in range(len(x.columns))]\n",
    "vif[\"Features\"] = x.columns\n",
    "vif"
   ]
  },
  {
   "cell_type": "markdown",
   "id": "c287deb3",
   "metadata": {},
   "source": [
    "### Best Random  State"
   ]
  },
  {
   "cell_type": "code",
   "execution_count": 87,
   "id": "cf714475",
   "metadata": {},
   "outputs": [],
   "source": [
    "from sklearn import neighbors\n",
    "from sklearn.model_selection import train_test_split\n",
    "from sklearn.metrics import r2_score"
   ]
  },
  {
   "cell_type": "code",
   "execution_count": 88,
   "id": "dd452294",
   "metadata": {},
   "outputs": [
    {
     "name": "stdout",
     "output_type": "stream",
     "text": [
      "Best R2 Score is : 0.2791658183635308  on Random State : 15\n"
     ]
    }
   ],
   "source": [
    "maxAccu=0\n",
    "maxRS=0\n",
    "for i in range(200):\n",
    "    x_train,x_test,y_train,y_test=train_test_split(x, y, test_size = 0.30, random_state = i)\n",
    "    KNN=neighbors.KNeighborsRegressor()\n",
    "    KNN.fit(x_train,y_train)\n",
    "    pred_rs=KNN.predict(x_test)\n",
    "    r2=r2_score(y_test,pred_rs)\n",
    "    if r2>maxAccu:\n",
    "        maxAccu=r2\n",
    "        maxRS=i\n",
    "print(\"Best R2 Score is :\",maxAccu,\" on Random State :\",maxRS)"
   ]
  },
  {
   "cell_type": "code",
   "execution_count": 89,
   "id": "7f13b693",
   "metadata": {},
   "outputs": [],
   "source": [
    "from sklearn.model_selection import train_test_split\n",
    "x_train,x_test,y_train,y_test=train_test_split(x,y,test_size=.30,random_state=maxRS)"
   ]
  },
  {
   "cell_type": "code",
   "execution_count": 91,
   "id": "fd2d6428",
   "metadata": {},
   "outputs": [
    {
     "data": {
      "text/plain": [
       "(3596, 6)"
      ]
     },
     "execution_count": 91,
     "metadata": {},
     "output_type": "execute_result"
    }
   ],
   "source": [
    "x_train.shape"
   ]
  },
  {
   "cell_type": "code",
   "execution_count": 92,
   "id": "8bb63bd1",
   "metadata": {},
   "outputs": [
    {
     "data": {
      "text/plain": [
       "(1542, 6)"
      ]
     },
     "execution_count": 92,
     "metadata": {},
     "output_type": "execute_result"
    }
   ],
   "source": [
    "x_test.shape"
   ]
  },
  {
   "cell_type": "code",
   "execution_count": 93,
   "id": "357cdab4",
   "metadata": {},
   "outputs": [
    {
     "data": {
      "text/plain": [
       "(3596,)"
      ]
     },
     "execution_count": 93,
     "metadata": {},
     "output_type": "execute_result"
    }
   ],
   "source": [
    "\n",
    "y_train.shape\n"
   ]
  },
  {
   "cell_type": "code",
   "execution_count": 94,
   "id": "7e4965de",
   "metadata": {},
   "outputs": [
    {
     "data": {
      "text/plain": [
       "(1542,)"
      ]
     },
     "execution_count": 94,
     "metadata": {},
     "output_type": "execute_result"
    }
   ],
   "source": [
    "y_test.shape"
   ]
  },
  {
   "cell_type": "markdown",
   "id": "bf8d9ae5",
   "metadata": {},
   "source": [
    "### Linear Regression"
   ]
  },
  {
   "cell_type": "code",
   "execution_count": 95,
   "id": "a41a1cb5",
   "metadata": {},
   "outputs": [],
   "source": [
    "from sklearn.metrics import r2_score\n",
    "from sklearn.metrics import mean_squared_error,mean_absolute_error\n",
    "from sklearn.linear_model import LinearRegression"
   ]
  },
  {
   "cell_type": "code",
   "execution_count": 96,
   "id": "dfdb4551",
   "metadata": {},
   "outputs": [
    {
     "name": "stdout",
     "output_type": "stream",
     "text": [
      "R2_Score:  0.009471562460826033\n",
      "Mean absolute error:  1064.5914979355716\n",
      "Mean squared error:  16061806.024044642\n",
      "Root Mean squared error:  4007.7183064737274\n"
     ]
    }
   ],
   "source": [
    "lr=LinearRegression()\n",
    "lr.fit(x_train,y_train)\n",
    "lr.score(x_train,y_train)\n",
    "\n",
    "pred_lr=lr.predict(x_test)\n",
    "print('R2_Score: ',r2_score(y_test,pred_lr))\n",
    "print('Mean absolute error: ',mean_absolute_error(y_test,pred_lr))\n",
    "print('Mean squared error: ',mean_squared_error(y_test,pred_lr))\n",
    "print('Root Mean squared error: ',np.sqrt(mean_squared_error(y_test,pred_lr)))"
   ]
  },
  {
   "cell_type": "markdown",
   "id": "6575633e",
   "metadata": {},
   "source": [
    "### Decision Tree Regressor\n"
   ]
  },
  {
   "cell_type": "code",
   "execution_count": 97,
   "id": "78ab77f0",
   "metadata": {},
   "outputs": [
    {
     "name": "stdout",
     "output_type": "stream",
     "text": [
      "R2_Score:  -0.6571162304116775\n",
      "Mean absolute error:  356.8296530479896\n",
      "Mean squared error:  26870787.797160845\n",
      "Root Mean squared error:  5183.704061495105\n"
     ]
    }
   ],
   "source": [
    "from sklearn.tree import DecisionTreeRegressor\n",
    "\n",
    "dtr = DecisionTreeRegressor()\n",
    "dtr.fit(x_train,y_train)\n",
    "dtr.score(x_train,y_train)\n",
    "\n",
    "pred_dtr=dtr.predict(x_test)\n",
    "print('R2_Score: ',r2_score(y_test,pred_dtr))\n",
    "print('Mean absolute error: ',mean_absolute_error(y_test,pred_dtr))\n",
    "print('Mean squared error: ',mean_squared_error(y_test,pred_dtr))\n",
    "print('Root Mean squared error: ',np.sqrt(mean_squared_error(y_test,pred_dtr)))"
   ]
  },
  {
   "cell_type": "markdown",
   "id": "2e020be2",
   "metadata": {},
   "source": [
    "### KNearest Neighbors Regressor\n"
   ]
  },
  {
   "cell_type": "code",
   "execution_count": 98,
   "id": "a263f158",
   "metadata": {},
   "outputs": [
    {
     "name": "stdout",
     "output_type": "stream",
     "text": [
      "R2_Score:  0.2791658183635308\n",
      "Mean absolute error:  293.4063657587548\n",
      "Mean squared error:  11688608.183435462\n",
      "Root Mean squared error:  3418.8606557500207\n"
     ]
    }
   ],
   "source": [
    "from sklearn import neighbors\n",
    "\n",
    "knn = neighbors.KNeighborsRegressor()\n",
    "knn.fit(x_train,y_train)\n",
    "knn.score(x_train,y_train)\n",
    "\n",
    "pred_knn=knn.predict(x_test)\n",
    "print('R2_Score: ',r2_score(y_test,pred_knn))\n",
    "print('Mean absolute error: ',mean_absolute_error(y_test,pred_knn))\n",
    "print('Mean squared error: ',mean_squared_error(y_test,pred_knn))\n",
    "print('Root Mean squared error: ',np.sqrt(mean_squared_error(y_test,pred_knn)))"
   ]
  },
  {
   "cell_type": "markdown",
   "id": "02a8b0a3",
   "metadata": {},
   "source": [
    "### SVR"
   ]
  },
  {
   "cell_type": "code",
   "execution_count": 99,
   "id": "30e69ad6",
   "metadata": {},
   "outputs": [
    {
     "name": "stdout",
     "output_type": "stream",
     "text": [
      "R2_Score:  -0.002770081972433891\n",
      "Mean absolute error:  207.87745325884921\n",
      "Mean squared error:  16260309.076406095\n",
      "Root Mean squared error:  4032.407354968753\n"
     ]
    }
   ],
   "source": [
    "\n",
    "from sklearn.svm import SVR\n",
    "\n",
    "svr=SVR()\n",
    "svr.fit(x_train,y_train)\n",
    "svr.score(x_train,y_train)\n",
    "\n",
    "pred_svr=svr.predict(x_test)\n",
    "print('R2_Score: ',r2_score(y_test,pred_svr))\n",
    "print('Mean absolute error: ',mean_absolute_error(y_test,pred_svr))\n",
    "print('Mean squared error: ',mean_squared_error(y_test,pred_svr))\n",
    "print('Root Mean squared error: ',np.sqrt(mean_squared_error(y_test,pred_svr)))"
   ]
  },
  {
   "cell_type": "markdown",
   "id": "5b59c653",
   "metadata": {},
   "source": [
    "### Gradient Boosting Regressor"
   ]
  },
  {
   "cell_type": "code",
   "execution_count": 100,
   "id": "c20e61fb",
   "metadata": {},
   "outputs": [
    {
     "name": "stdout",
     "output_type": "stream",
     "text": [
      "R2_Score:  0.17149209627622908\n",
      "Mean absolute error:  446.5074417369782\n",
      "Mean squared error:  13434579.699760288\n",
      "Root Mean squared error:  3665.321227363338\n"
     ]
    }
   ],
   "source": [
    "\n",
    "from sklearn.ensemble import GradientBoostingRegressor\n",
    "\n",
    "gbr=GradientBoostingRegressor()\n",
    "gbr.fit(x_train,y_train)\n",
    "gbr.score(x_train,y_train)\n",
    "\n",
    "pred_gbr=gbr.predict(x_test)\n",
    "print('R2_Score: ',r2_score(y_test,pred_gbr))\n",
    "print('Mean absolute error: ',mean_absolute_error(y_test,pred_gbr))\n",
    "print('Mean squared error: ',mean_squared_error(y_test,pred_gbr))\n",
    "print('Root Mean squared error: ',np.sqrt(mean_squared_error(y_test,pred_gbr)))"
   ]
  },
  {
   "cell_type": "markdown",
   "id": "6f89d63c",
   "metadata": {},
   "source": [
    "### Extra Trees Regressor"
   ]
  },
  {
   "cell_type": "code",
   "execution_count": 101,
   "id": "b223dacd",
   "metadata": {},
   "outputs": [
    {
     "name": "stdout",
     "output_type": "stream",
     "text": [
      "R2_Score:  0.27779955658461986\n",
      "Mean absolute error:  292.4761341763943\n",
      "Mean squared error:  11710762.652544348\n",
      "Root Mean squared error:  3422.099158783151\n"
     ]
    }
   ],
   "source": [
    "\n",
    "from sklearn.ensemble import ExtraTreesRegressor\n",
    "\n",
    "etr=ExtraTreesRegressor()\n",
    "etr.fit(x_train,y_train)\n",
    "etr.score(x_train,y_train)\n",
    "\n",
    "pred_etr=etr.predict(x_test)\n",
    "print('R2_Score: ',r2_score(y_test,pred_etr))\n",
    "print('Mean absolute error: ',mean_absolute_error(y_test,pred_etr))\n",
    "print('Mean squared error: ',mean_squared_error(y_test,pred_etr))\n",
    "print('Root Mean squared error: ',np.sqrt(mean_squared_error(y_test,pred_etr)))"
   ]
  },
  {
   "cell_type": "markdown",
   "id": "6a6a9be3",
   "metadata": {},
   "source": [
    "### XGBoost Regressor"
   ]
  },
  {
   "cell_type": "code",
   "execution_count": 102,
   "id": "327cf334",
   "metadata": {},
   "outputs": [
    {
     "name": "stdout",
     "output_type": "stream",
     "text": [
      "R2_Score:  -0.44802982157256044\n",
      "Mean absolute error:  468.6187439152587\n",
      "Mean squared error:  23480369.901253466\n",
      "Root Mean squared error:  4845.654744330581\n"
     ]
    }
   ],
   "source": [
    "\n",
    "from xgboost import XGBRegressor\n",
    "\n",
    "xgb=XGBRegressor()\n",
    "xgb.fit(x_train,y_train)\n",
    "xgb.score(x_train,y_train)\n",
    "\n",
    "pred_xgb=xgb.predict(x_test)\n",
    "print('R2_Score: ',r2_score(y_test,pred_xgb))\n",
    "print('Mean absolute error: ',mean_absolute_error(y_test,pred_xgb))\n",
    "print('Mean squared error: ',mean_squared_error(y_test,pred_xgb))\n",
    "print('Root Mean squared error: ',np.sqrt(mean_squared_error(y_test,pred_xgb)))"
   ]
  },
  {
   "cell_type": "markdown",
   "id": "26dc5c38",
   "metadata": {},
   "source": [
    "### Cross Validation Score"
   ]
  },
  {
   "cell_type": "code",
   "execution_count": 103,
   "id": "df1706fe",
   "metadata": {},
   "outputs": [],
   "source": [
    "from sklearn.model_selection import cross_val_score"
   ]
  },
  {
   "cell_type": "code",
   "execution_count": 104,
   "id": "c2b10f89",
   "metadata": {},
   "outputs": [
    {
     "name": "stdout",
     "output_type": "stream",
     "text": [
      "Cross validation score of this model is:  0.024560697432373234\n"
     ]
    }
   ],
   "source": [
    "scr_ln=cross_val_score(lr,x,y,cv=5)\n",
    "print(\"Cross validation score of this model is: \",scr_ln.mean())"
   ]
  },
  {
   "cell_type": "code",
   "execution_count": 105,
   "id": "c18fd42d",
   "metadata": {},
   "outputs": [
    {
     "name": "stdout",
     "output_type": "stream",
     "text": [
      "Cross validation score of this model is:  -0.81613857995115\n"
     ]
    }
   ],
   "source": [
    "scr_dtr=cross_val_score(dtr,x,y,cv=5)\n",
    "print(\"Cross validation score of this model is: \",scr_dtr.mean())"
   ]
  },
  {
   "cell_type": "code",
   "execution_count": 106,
   "id": "d2000ddd",
   "metadata": {},
   "outputs": [
    {
     "name": "stdout",
     "output_type": "stream",
     "text": [
      "Cross validation score of this model is:  0.036885472364587654\n"
     ]
    }
   ],
   "source": [
    "scr_knn=cross_val_score(knn,x,y,cv=5)\n",
    "print(\"Cross validation score of this model is: \",scr_knn.mean())"
   ]
  },
  {
   "cell_type": "code",
   "execution_count": 107,
   "id": "bd85d0d5",
   "metadata": {},
   "outputs": [
    {
     "name": "stdout",
     "output_type": "stream",
     "text": [
      "Cross validation score of this model is:  -0.004576131064781786\n"
     ]
    }
   ],
   "source": [
    "scr_svr=cross_val_score(svr,x,y,cv=5)\n",
    "print(\"Cross validation score of this model is: \",scr_svr.mean())"
   ]
  },
  {
   "cell_type": "code",
   "execution_count": 109,
   "id": "c3d7fd98",
   "metadata": {},
   "outputs": [
    {
     "name": "stdout",
     "output_type": "stream",
     "text": [
      "Cross validation score of this model is:  -0.12484685714882131\n"
     ]
    }
   ],
   "source": [
    "scr_gbr=cross_val_score(gbr,x,y,cv=5)\n",
    "print(\"Cross validation score of this model is: \",scr_gbr.mean())"
   ]
  },
  {
   "cell_type": "code",
   "execution_count": 110,
   "id": "273a065f",
   "metadata": {},
   "outputs": [
    {
     "name": "stdout",
     "output_type": "stream",
     "text": [
      "Cross validation score of this model is:  -0.026959410385709127\n"
     ]
    }
   ],
   "source": [
    "scr_etr=cross_val_score(etr,x,y,cv=5)\n",
    "print(\"Cross validation score of this model is: \",scr_etr.mean())"
   ]
  },
  {
   "cell_type": "code",
   "execution_count": 111,
   "id": "8fe66838",
   "metadata": {},
   "outputs": [
    {
     "name": "stdout",
     "output_type": "stream",
     "text": [
      "Cross validation score of this model is:  -0.2877924171534925\n"
     ]
    }
   ],
   "source": [
    "scr_xgb=cross_val_score(xgb,x,y,cv=5)\n",
    "print(\"Cross validation score of this model is: \",scr_xgb.mean())"
   ]
  },
  {
   "cell_type": "code",
   "execution_count": 112,
   "id": "c0558e16",
   "metadata": {},
   "outputs": [],
   "source": [
    "from sklearn.model_selection import GridSearchCV"
   ]
  },
  {
   "cell_type": "code",
   "execution_count": 113,
   "id": "c11ee609",
   "metadata": {},
   "outputs": [],
   "source": [
    "parameters = {'n_estimators':[10,100,1000],\n",
    "             'criterion':['squared_error','mse','absolute_error','mae'],\n",
    "             'max_features':['auto','sqrt','log2'],\n",
    "             'n_jobs':[-2,-1,1]}\n",
    "grid_etr = GridSearchCV(etr, param_grid = parameters, cv = 5)"
   ]
  },
  {
   "cell_type": "code",
   "execution_count": 114,
   "id": "04d6b108",
   "metadata": {},
   "outputs": [
    {
     "data": {
      "text/html": [
       "<style>#sk-container-id-1 {color: black;background-color: white;}#sk-container-id-1 pre{padding: 0;}#sk-container-id-1 div.sk-toggleable {background-color: white;}#sk-container-id-1 label.sk-toggleable__label {cursor: pointer;display: block;width: 100%;margin-bottom: 0;padding: 0.3em;box-sizing: border-box;text-align: center;}#sk-container-id-1 label.sk-toggleable__label-arrow:before {content: \"▸\";float: left;margin-right: 0.25em;color: #696969;}#sk-container-id-1 label.sk-toggleable__label-arrow:hover:before {color: black;}#sk-container-id-1 div.sk-estimator:hover label.sk-toggleable__label-arrow:before {color: black;}#sk-container-id-1 div.sk-toggleable__content {max-height: 0;max-width: 0;overflow: hidden;text-align: left;background-color: #f0f8ff;}#sk-container-id-1 div.sk-toggleable__content pre {margin: 0.2em;color: black;border-radius: 0.25em;background-color: #f0f8ff;}#sk-container-id-1 input.sk-toggleable__control:checked~div.sk-toggleable__content {max-height: 200px;max-width: 100%;overflow: auto;}#sk-container-id-1 input.sk-toggleable__control:checked~label.sk-toggleable__label-arrow:before {content: \"▾\";}#sk-container-id-1 div.sk-estimator input.sk-toggleable__control:checked~label.sk-toggleable__label {background-color: #d4ebff;}#sk-container-id-1 div.sk-label input.sk-toggleable__control:checked~label.sk-toggleable__label {background-color: #d4ebff;}#sk-container-id-1 input.sk-hidden--visually {border: 0;clip: rect(1px 1px 1px 1px);clip: rect(1px, 1px, 1px, 1px);height: 1px;margin: -1px;overflow: hidden;padding: 0;position: absolute;width: 1px;}#sk-container-id-1 div.sk-estimator {font-family: monospace;background-color: #f0f8ff;border: 1px dotted black;border-radius: 0.25em;box-sizing: border-box;margin-bottom: 0.5em;}#sk-container-id-1 div.sk-estimator:hover {background-color: #d4ebff;}#sk-container-id-1 div.sk-parallel-item::after {content: \"\";width: 100%;border-bottom: 1px solid gray;flex-grow: 1;}#sk-container-id-1 div.sk-label:hover label.sk-toggleable__label {background-color: #d4ebff;}#sk-container-id-1 div.sk-serial::before {content: \"\";position: absolute;border-left: 1px solid gray;box-sizing: border-box;top: 0;bottom: 0;left: 50%;z-index: 0;}#sk-container-id-1 div.sk-serial {display: flex;flex-direction: column;align-items: center;background-color: white;padding-right: 0.2em;padding-left: 0.2em;position: relative;}#sk-container-id-1 div.sk-item {position: relative;z-index: 1;}#sk-container-id-1 div.sk-parallel {display: flex;align-items: stretch;justify-content: center;background-color: white;position: relative;}#sk-container-id-1 div.sk-item::before, #sk-container-id-1 div.sk-parallel-item::before {content: \"\";position: absolute;border-left: 1px solid gray;box-sizing: border-box;top: 0;bottom: 0;left: 50%;z-index: -1;}#sk-container-id-1 div.sk-parallel-item {display: flex;flex-direction: column;z-index: 1;position: relative;background-color: white;}#sk-container-id-1 div.sk-parallel-item:first-child::after {align-self: flex-end;width: 50%;}#sk-container-id-1 div.sk-parallel-item:last-child::after {align-self: flex-start;width: 50%;}#sk-container-id-1 div.sk-parallel-item:only-child::after {width: 0;}#sk-container-id-1 div.sk-dashed-wrapped {border: 1px dashed gray;margin: 0 0.4em 0.5em 0.4em;box-sizing: border-box;padding-bottom: 0.4em;background-color: white;}#sk-container-id-1 div.sk-label label {font-family: monospace;font-weight: bold;display: inline-block;line-height: 1.2em;}#sk-container-id-1 div.sk-label-container {text-align: center;}#sk-container-id-1 div.sk-container {/* jupyter's `normalize.less` sets `[hidden] { display: none; }` but bootstrap.min.css set `[hidden] { display: none !important; }` so we also need the `!important` here to be able to override the default hidden behavior on the sphinx rendered scikit-learn.org. See: https://github.com/scikit-learn/scikit-learn/issues/21755 */display: inline-block !important;position: relative;}#sk-container-id-1 div.sk-text-repr-fallback {display: none;}</style><div id=\"sk-container-id-1\" class=\"sk-top-container\"><div class=\"sk-text-repr-fallback\"><pre>GridSearchCV(cv=5, estimator=ExtraTreesRegressor(),\n",
       "             param_grid={&#x27;criterion&#x27;: [&#x27;squared_error&#x27;, &#x27;mse&#x27;, &#x27;absolute_error&#x27;,\n",
       "                                       &#x27;mae&#x27;],\n",
       "                         &#x27;max_features&#x27;: [&#x27;auto&#x27;, &#x27;sqrt&#x27;, &#x27;log2&#x27;],\n",
       "                         &#x27;n_estimators&#x27;: [10, 100, 1000],\n",
       "                         &#x27;n_jobs&#x27;: [-2, -1, 1]})</pre><b>In a Jupyter environment, please rerun this cell to show the HTML representation or trust the notebook. <br />On GitHub, the HTML representation is unable to render, please try loading this page with nbviewer.org.</b></div><div class=\"sk-container\" hidden><div class=\"sk-item sk-dashed-wrapped\"><div class=\"sk-label-container\"><div class=\"sk-label sk-toggleable\"><input class=\"sk-toggleable__control sk-hidden--visually\" id=\"sk-estimator-id-1\" type=\"checkbox\" ><label for=\"sk-estimator-id-1\" class=\"sk-toggleable__label sk-toggleable__label-arrow\">GridSearchCV</label><div class=\"sk-toggleable__content\"><pre>GridSearchCV(cv=5, estimator=ExtraTreesRegressor(),\n",
       "             param_grid={&#x27;criterion&#x27;: [&#x27;squared_error&#x27;, &#x27;mse&#x27;, &#x27;absolute_error&#x27;,\n",
       "                                       &#x27;mae&#x27;],\n",
       "                         &#x27;max_features&#x27;: [&#x27;auto&#x27;, &#x27;sqrt&#x27;, &#x27;log2&#x27;],\n",
       "                         &#x27;n_estimators&#x27;: [10, 100, 1000],\n",
       "                         &#x27;n_jobs&#x27;: [-2, -1, 1]})</pre></div></div></div><div class=\"sk-parallel\"><div class=\"sk-parallel-item\"><div class=\"sk-item\"><div class=\"sk-label-container\"><div class=\"sk-label sk-toggleable\"><input class=\"sk-toggleable__control sk-hidden--visually\" id=\"sk-estimator-id-2\" type=\"checkbox\" ><label for=\"sk-estimator-id-2\" class=\"sk-toggleable__label sk-toggleable__label-arrow\">estimator: ExtraTreesRegressor</label><div class=\"sk-toggleable__content\"><pre>ExtraTreesRegressor()</pre></div></div></div><div class=\"sk-serial\"><div class=\"sk-item\"><div class=\"sk-estimator sk-toggleable\"><input class=\"sk-toggleable__control sk-hidden--visually\" id=\"sk-estimator-id-3\" type=\"checkbox\" ><label for=\"sk-estimator-id-3\" class=\"sk-toggleable__label sk-toggleable__label-arrow\">ExtraTreesRegressor</label><div class=\"sk-toggleable__content\"><pre>ExtraTreesRegressor()</pre></div></div></div></div></div></div></div></div></div></div>"
      ],
      "text/plain": [
       "GridSearchCV(cv=5, estimator=ExtraTreesRegressor(),\n",
       "             param_grid={'criterion': ['squared_error', 'mse', 'absolute_error',\n",
       "                                       'mae'],\n",
       "                         'max_features': ['auto', 'sqrt', 'log2'],\n",
       "                         'n_estimators': [10, 100, 1000],\n",
       "                         'n_jobs': [-2, -1, 1]})"
      ]
     },
     "execution_count": 114,
     "metadata": {},
     "output_type": "execute_result"
    }
   ],
   "source": [
    "grid_etr.fit(x_train, y_train)"
   ]
  },
  {
   "cell_type": "code",
   "execution_count": 115,
   "id": "aa46da92",
   "metadata": {},
   "outputs": [
    {
     "data": {
      "text/plain": [
       "{'criterion': 'mae', 'max_features': 'sqrt', 'n_estimators': 10, 'n_jobs': 1}"
      ]
     },
     "execution_count": 115,
     "metadata": {},
     "output_type": "execute_result"
    }
   ],
   "source": [
    "grid_etr.best_params_"
   ]
  },
  {
   "cell_type": "code",
   "execution_count": 116,
   "id": "7d1c29c9",
   "metadata": {},
   "outputs": [
    {
     "name": "stdout",
     "output_type": "stream",
     "text": [
      "R2_Score:  0.38846080149267515\n",
      "Mean absolute error:  273.3056849870298\n",
      "Mean squared error:  9916347.285219584\n",
      "Root Mean squared error:  3149.023227164192\n"
     ]
    }
   ],
   "source": [
    "Best_model = ExtraTreesRegressor(criterion='mse',max_features='log2',n_jobs=1,n_estimators=10)\n",
    "Best_model.fit(x_train,y_train)\n",
    "\n",
    "pred = Best_model.predict(x_test)\n",
    "print('R2_Score: ',r2_score(y_test,pred))\n",
    "print('Mean absolute error: ',mean_absolute_error(y_test,pred))\n",
    "print('Mean squared error: ',mean_squared_error(y_test,pred))\n",
    "print('Root Mean squared error: ',np.sqrt(mean_squared_error(y_test,pred)))"
   ]
  },
  {
   "cell_type": "code",
   "execution_count": 117,
   "id": "8565eb4f",
   "metadata": {},
   "outputs": [
    {
     "data": {
      "image/png": "[encoded data removed]",
      "text/plain": [
       "<Figure size 432x288 with 1 Axes>"
      ]
     },
     "metadata": {
      "needs_background": "light"
     },
     "output_type": "display_data"
    }
   ],
   "source": [
    "# Visualizing the predicted values\n",
    "sns.regplot(y_test,pred,color=\"c\")\n",
    "plt.show()"
   ]
  },
  {
   "cell_type": "markdown",
   "id": "bc765184",
   "metadata": {},
   "source": [
    "### Saving Model"
   ]
  },
  {
   "cell_type": "code",
   "execution_count": 118,
   "id": "ba2b362d",
   "metadata": {},
   "outputs": [
    {
     "data": {
      "text/plain": [
       "['Used_Car_Price_Prediction.pkl']"
      ]
     },
     "execution_count": 118,
     "metadata": {},
     "output_type": "execute_result"
    }
   ],
   "source": [
    "import joblib\n",
    "joblib.dump(Best_model,\"Used_Car_Price_Prediction.pkl\")"
   ]
  },
  {
   "cell_type": "code",
   "execution_count": 119,
   "id": "c631f485",
   "metadata": {},
   "outputs": [
    {
     "data": {
      "text/plain": [
       "array([ 8.246, 20.   , 12.776, ...,  5.853,  5.175, 22.65 ])"
      ]
     },
     "execution_count": 119,
     "metadata": {},
     "output_type": "execute_result"
    }
   ],
   "source": [
    "# Loading the saved model\n",
    "used_car_model=joblib.load(\"Used_Car_Price_Prediction.pkl\")\n",
    "\n",
    "# Prediction\n",
    "prediction = used_car_model.predict(x_test)\n",
    "prediction"
   ]
  },
  {
   "cell_type": "code",
   "execution_count": 120,
   "id": "38471e19",
   "metadata": {},
   "outputs": [
    {
     "data": {
      "text/html": [
       "<div>\n",
       "<style scoped>\n",
       "    .dataframe tbody tr th:only-of-type {\n",
       "        vertical-align: middle;\n",
       "    }\n",
       "\n",
       "    .dataframe tbody tr th {\n",
       "        vertical-align: top;\n",
       "    }\n",
       "\n",
       "    .dataframe thead th {\n",
       "        text-align: right;\n",
       "    }\n",
       "</style>\n",
       "<table border=\"1\" class=\"dataframe\">\n",
       "  <thead>\n",
       "    <tr style=\"text-align: right;\">\n",
       "      <th></th>\n",
       "      <th>0</th>\n",
       "      <th>1</th>\n",
       "      <th>2</th>\n",
       "      <th>3</th>\n",
       "      <th>4</th>\n",
       "      <th>5</th>\n",
       "      <th>6</th>\n",
       "      <th>7</th>\n",
       "      <th>8</th>\n",
       "      <th>9</th>\n",
       "      <th>...</th>\n",
       "      <th>1532</th>\n",
       "      <th>1533</th>\n",
       "      <th>1534</th>\n",
       "      <th>1535</th>\n",
       "      <th>1536</th>\n",
       "      <th>1537</th>\n",
       "      <th>1538</th>\n",
       "      <th>1539</th>\n",
       "      <th>1540</th>\n",
       "      <th>1541</th>\n",
       "    </tr>\n",
       "  </thead>\n",
       "  <tbody>\n",
       "    <tr>\n",
       "      <th>Predicted</th>\n",
       "      <td>8.246</td>\n",
       "      <td>20.00</td>\n",
       "      <td>12.776</td>\n",
       "      <td>4.576</td>\n",
       "      <td>27.444</td>\n",
       "      <td>39.1</td>\n",
       "      <td>6.568</td>\n",
       "      <td>16.348</td>\n",
       "      <td>5.662</td>\n",
       "      <td>5.547</td>\n",
       "      <td>...</td>\n",
       "      <td>7.051</td>\n",
       "      <td>14.515</td>\n",
       "      <td>6.935</td>\n",
       "      <td>7.198</td>\n",
       "      <td>6002.79375</td>\n",
       "      <td>4.385</td>\n",
       "      <td>6.045</td>\n",
       "      <td>5.853</td>\n",
       "      <td>5.175</td>\n",
       "      <td>22.65</td>\n",
       "    </tr>\n",
       "    <tr>\n",
       "      <th>Actual</th>\n",
       "      <td>5.750</td>\n",
       "      <td>24.49</td>\n",
       "      <td>14.250</td>\n",
       "      <td>4.850</td>\n",
       "      <td>14.250</td>\n",
       "      <td>33.0</td>\n",
       "      <td>7.990</td>\n",
       "      <td>18.000</td>\n",
       "      <td>4.390</td>\n",
       "      <td>4.250</td>\n",
       "      <td>...</td>\n",
       "      <td>6.750</td>\n",
       "      <td>13.290</td>\n",
       "      <td>6.700</td>\n",
       "      <td>7.850</td>\n",
       "      <td>5.50000</td>\n",
       "      <td>4.250</td>\n",
       "      <td>8.380</td>\n",
       "      <td>5.850</td>\n",
       "      <td>5.350</td>\n",
       "      <td>23.46</td>\n",
       "    </tr>\n",
       "  </tbody>\n",
       "</table>\n",
       "<p>2 rows × 1542 columns</p>\n",
       "</div>"
      ],
      "text/plain": [
       "            0      1       2      3       4     5      6       7      8     \\\n",
       "Predicted  8.246  20.00  12.776  4.576  27.444  39.1  6.568  16.348  5.662   \n",
       "Actual     5.750  24.49  14.250  4.850  14.250  33.0  7.990  18.000  4.390   \n",
       "\n",
       "            9     ...   1532    1533   1534   1535        1536   1537   1538  \\\n",
       "Predicted  5.547  ...  7.051  14.515  6.935  7.198  6002.79375  4.385  6.045   \n",
       "Actual     4.250  ...  6.750  13.290  6.700  7.850     5.50000  4.250  8.380   \n",
       "\n",
       "            1539   1540   1541  \n",
       "Predicted  5.853  5.175  22.65  \n",
       "Actual     5.850  5.350  23.46  \n",
       "\n",
       "[2 rows x 1542 columns]"
      ]
     },
     "execution_count": 120,
     "metadata": {},
     "output_type": "execute_result"
    }
   ],
   "source": [
    "pd.DataFrame([used_car_model.predict(x_test)[:],y_test[:]],index=[\"Predicted\",\"Actual\"])"
   ]
  },
  {
   "cell_type": "code",
   "execution_count": 121,
   "id": "6e61ca2a",
   "metadata": {},
   "outputs": [
    {
     "data": {
      "image/png": "[encoded data removed]",
      "text/plain": [
       "<Figure size 576x360 with 1 Axes>"
      ]
     },
     "metadata": {
      "needs_background": "light"
     },
     "output_type": "display_data"
    }
   ],
   "source": [
    "plt.figure(figsize=(8,5))\n",
    "plt.scatter(y_test, prediction, c='green')\n",
    "p1 = max(max(prediction), max(y_test))\n",
    "p2 = min(min(prediction), min(y_test))\n",
    "plt.plot([p1, p2], [p1, p2], 'b-')\n",
    "plt.xlabel('Actual', fontsize=10)\n",
    "plt.ylabel('Predicted', fontsize=10)\n",
    "plt.title(\"ExtraTreesRegressor\")\n",
    "plt.show()\n"
   ]
  },
  {
   "cell_type": "code",
   "execution_count": null,
   "id": "d9a8e919",
   "metadata": {},
   "outputs": [],
   "source": []
  }
 ],
 "metadata": {
  "kernelspec": {
   "display_name": "Python 3 (ipykernel)",
   "language": "python",
   "name": "python3"
  },
  "language_info": {
   "codemirror_mode": {
    "name": "ipython",
    "version": 3
   },
   "file_extension": ".py",
   "mimetype": "text/x-python",
   "name": "python",
   "nbconvert_exporter": "python",
   "pygments_lexer": "ipython3",
   "version": "3.9.7"
  }
 },
 "nbformat": 4,
 "nbformat_minor": 5
}
